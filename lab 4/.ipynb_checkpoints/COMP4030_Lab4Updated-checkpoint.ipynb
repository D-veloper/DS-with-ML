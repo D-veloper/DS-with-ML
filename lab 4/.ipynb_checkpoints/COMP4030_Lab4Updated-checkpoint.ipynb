{
 "cells": [
  {
   "cell_type": "markdown",
   "id": "81f78624",
   "metadata": {
    "id": "81f78624"
   },
   "source": [
    "# COMP4030 - Data Science and Machine Learning - Lab 4\n",
    "# Data Analysis and Modelling\n",
    "\n",
    "*Authors*: Nazia Hameed, Jeremie Clos"
   ]
  },
  {
   "cell_type": "markdown",
   "id": "d6e2a5f6",
   "metadata": {
    "id": "d6e2a5f6"
   },
   "source": [
    "**Points from previous labs you absolutely need to be familiar with**:\n",
    "\n",
    "- read Excel file: `pd.read_excel()`\n",
    "- read CSV file: `pd.read_csv()`\n",
    "- rename columns: `df.rename()`\n",
    "- unique values from a column: `df.unique()`\n",
    "- duplicated rows: `df.duplicated()`\n",
    "- drop duplicated rows: `df.drop_duplicates()`\n",
    "- quantile / percentile: `df.quantile()`\n",
    "- rows with *NaN*: `df.isna()`\n",
    "- drop rows with *NaN*: `df.dropna()`\n",
    "### For tasks you can see the desired output. The purpose of showing output is to help you to write code."
   ]
  },
  {
   "cell_type": "code",
   "execution_count": null,
   "id": "4e78c086",
   "metadata": {
    "id": "4e78c086"
   },
   "outputs": [],
   "source": [
    "import matplotlib.pyplot as plt\n",
    "import pandas as pd"
   ]
  },
  {
   "cell_type": "markdown",
   "id": "5ec4c6fc",
   "metadata": {
    "id": "5ec4c6fc"
   },
   "source": [
    "## 1. Getting started with Data Analysis-Importing the Dataset"
   ]
  },
  {
   "cell_type": "markdown",
   "id": "1a5fc59e",
   "metadata": {
    "id": "1a5fc59e"
   },
   "source": [
    "Let's first get started with data pre-processing on automobile price prediction dataset. You can download the dataset from the Moodle.Alternatively, dataset can be downloaded from the UCI dataset repository using the following link: https://archive.ics.uci.edu/ml/machine-learning-databases/autos/. If you are downloading the dataset from the provided link you need to convert this data in the .csv format and you may need to add headers to the data aswell as they are not combined. To do so, you need to create a headers list. \n",
    "\n",
    "headers = [\"symboling\",\"normalized-losses\",\"make\",\"fuel-type\",\"aspiration\", \"num-of-doors\",\"body-style\",\n",
    "         \"drive-wheels\",\"engine-location\",\"wheel-base\", \"length\",\"width\",\"height\",\"curb-weight\",\"engine-type\",\n",
    "         \"num-of-cylinders\", \"engine-size\",\"fuel-system\",\"bore\",\"stroke\",\"compression-ratio\",\"horsepower\",\n",
    "         \"peak-rpm\",\"city-mpg\",\"highway-mpg\",\"price\"]\n",
    "         \n",
    "Then use `dataframe.columns = headers` to replace the headers with the list you have created.\n",
    "\n",
    "Lets get started by reading the dataset available on the moodle. "
   ]
  },
  {
   "cell_type": "code",
   "execution_count": null,
   "id": "36e5392b",
   "metadata": {
    "id": "36e5392b",
    "outputId": "d46125bc-5e9e-47b0-c582-186c81ac3220"
   },
   "outputs": [
    {
     "data": {
      "text/html": [
       "<div>\n",
       "<style scoped>\n",
       "    .dataframe tbody tr th:only-of-type {\n",
       "        vertical-align: middle;\n",
       "    }\n",
       "\n",
       "    .dataframe tbody tr th {\n",
       "        vertical-align: top;\n",
       "    }\n",
       "\n",
       "    .dataframe thead th {\n",
       "        text-align: right;\n",
       "    }\n",
       "</style>\n",
       "<table border=\"1\" class=\"dataframe\">\n",
       "  <thead>\n",
       "    <tr style=\"text-align: right;\">\n",
       "      <th></th>\n",
       "      <th>0</th>\n",
       "      <th>1</th>\n",
       "      <th>2</th>\n",
       "      <th>3</th>\n",
       "      <th>4</th>\n",
       "      <th>5</th>\n",
       "      <th>6</th>\n",
       "      <th>7</th>\n",
       "      <th>8</th>\n",
       "      <th>9</th>\n",
       "      <th>...</th>\n",
       "      <th>16</th>\n",
       "      <th>17</th>\n",
       "      <th>18</th>\n",
       "      <th>19</th>\n",
       "      <th>20</th>\n",
       "      <th>21</th>\n",
       "      <th>22</th>\n",
       "      <th>23</th>\n",
       "      <th>24</th>\n",
       "      <th>25</th>\n",
       "    </tr>\n",
       "  </thead>\n",
       "  <tbody>\n",
       "    <tr>\n",
       "      <th>0</th>\n",
       "      <td>3</td>\n",
       "      <td>?</td>\n",
       "      <td>alfa-romero</td>\n",
       "      <td>gas</td>\n",
       "      <td>std</td>\n",
       "      <td>two</td>\n",
       "      <td>convertible</td>\n",
       "      <td>rwd</td>\n",
       "      <td>front</td>\n",
       "      <td>88.6</td>\n",
       "      <td>...</td>\n",
       "      <td>130</td>\n",
       "      <td>mpfi</td>\n",
       "      <td>3.47</td>\n",
       "      <td>2.68</td>\n",
       "      <td>9.0</td>\n",
       "      <td>111</td>\n",
       "      <td>5000</td>\n",
       "      <td>21</td>\n",
       "      <td>27</td>\n",
       "      <td>13495</td>\n",
       "    </tr>\n",
       "    <tr>\n",
       "      <th>1</th>\n",
       "      <td>3</td>\n",
       "      <td>?</td>\n",
       "      <td>alfa-romero</td>\n",
       "      <td>gas</td>\n",
       "      <td>std</td>\n",
       "      <td>two</td>\n",
       "      <td>convertible</td>\n",
       "      <td>rwd</td>\n",
       "      <td>front</td>\n",
       "      <td>88.6</td>\n",
       "      <td>...</td>\n",
       "      <td>130</td>\n",
       "      <td>mpfi</td>\n",
       "      <td>3.47</td>\n",
       "      <td>2.68</td>\n",
       "      <td>9.0</td>\n",
       "      <td>111</td>\n",
       "      <td>5000</td>\n",
       "      <td>21</td>\n",
       "      <td>27</td>\n",
       "      <td>16500</td>\n",
       "    </tr>\n",
       "    <tr>\n",
       "      <th>2</th>\n",
       "      <td>1</td>\n",
       "      <td>?</td>\n",
       "      <td>alfa-romero</td>\n",
       "      <td>gas</td>\n",
       "      <td>std</td>\n",
       "      <td>two</td>\n",
       "      <td>hatchback</td>\n",
       "      <td>rwd</td>\n",
       "      <td>front</td>\n",
       "      <td>94.5</td>\n",
       "      <td>...</td>\n",
       "      <td>152</td>\n",
       "      <td>mpfi</td>\n",
       "      <td>2.68</td>\n",
       "      <td>3.47</td>\n",
       "      <td>9.0</td>\n",
       "      <td>154</td>\n",
       "      <td>5000</td>\n",
       "      <td>19</td>\n",
       "      <td>26</td>\n",
       "      <td>16500</td>\n",
       "    </tr>\n",
       "    <tr>\n",
       "      <th>3</th>\n",
       "      <td>2</td>\n",
       "      <td>164</td>\n",
       "      <td>audi</td>\n",
       "      <td>gas</td>\n",
       "      <td>std</td>\n",
       "      <td>four</td>\n",
       "      <td>sedan</td>\n",
       "      <td>fwd</td>\n",
       "      <td>front</td>\n",
       "      <td>99.8</td>\n",
       "      <td>...</td>\n",
       "      <td>109</td>\n",
       "      <td>mpfi</td>\n",
       "      <td>3.19</td>\n",
       "      <td>3.40</td>\n",
       "      <td>10.0</td>\n",
       "      <td>102</td>\n",
       "      <td>5500</td>\n",
       "      <td>24</td>\n",
       "      <td>30</td>\n",
       "      <td>13950</td>\n",
       "    </tr>\n",
       "    <tr>\n",
       "      <th>4</th>\n",
       "      <td>2</td>\n",
       "      <td>164</td>\n",
       "      <td>audi</td>\n",
       "      <td>gas</td>\n",
       "      <td>std</td>\n",
       "      <td>four</td>\n",
       "      <td>sedan</td>\n",
       "      <td>4wd</td>\n",
       "      <td>front</td>\n",
       "      <td>99.4</td>\n",
       "      <td>...</td>\n",
       "      <td>136</td>\n",
       "      <td>mpfi</td>\n",
       "      <td>3.19</td>\n",
       "      <td>3.40</td>\n",
       "      <td>8.0</td>\n",
       "      <td>115</td>\n",
       "      <td>5500</td>\n",
       "      <td>18</td>\n",
       "      <td>22</td>\n",
       "      <td>17450</td>\n",
       "    </tr>\n",
       "  </tbody>\n",
       "</table>\n",
       "<p>5 rows × 26 columns</p>\n",
       "</div>"
      ],
      "text/plain": [
       "   0    1            2    3    4     5            6    7      8     9   ...  \\\n",
       "0   3    ?  alfa-romero  gas  std   two  convertible  rwd  front  88.6  ...   \n",
       "1   3    ?  alfa-romero  gas  std   two  convertible  rwd  front  88.6  ...   \n",
       "2   1    ?  alfa-romero  gas  std   two    hatchback  rwd  front  94.5  ...   \n",
       "3   2  164         audi  gas  std  four        sedan  fwd  front  99.8  ...   \n",
       "4   2  164         audi  gas  std  four        sedan  4wd  front  99.4  ...   \n",
       "\n",
       "    16    17    18    19    20   21    22  23  24     25  \n",
       "0  130  mpfi  3.47  2.68   9.0  111  5000  21  27  13495  \n",
       "1  130  mpfi  3.47  2.68   9.0  111  5000  21  27  16500  \n",
       "2  152  mpfi  2.68  3.47   9.0  154  5000  19  26  16500  \n",
       "3  109  mpfi  3.19  3.40  10.0  102  5500  24  30  13950  \n",
       "4  136  mpfi  3.19  3.40   8.0  115  5500  18  22  17450  \n",
       "\n",
       "[5 rows x 26 columns]"
      ]
     },
     "execution_count": 2,
     "metadata": {},
     "output_type": "execute_result"
    }
   ],
   "source": [
    "# Read the csv file \n",
    "df = pd.read_csv('rawautodata.csv',header=None)\n",
    "df.head()"
   ]
  },
  {
   "cell_type": "markdown",
   "id": "8c5ada90",
   "metadata": {
    "id": "8c5ada90"
   },
   "source": [
    "As the headers are available in a seperate file,they need to be added manually.<br>\n",
    "**Task** add headers to the dataframe and show first five records."
   ]
  },
  {
   "cell_type": "code",
   "execution_count": null,
   "id": "0f7e7ab5",
   "metadata": {
    "id": "0f7e7ab5",
    "outputId": "26102849-3448-426b-ff37-05b328a6b7ba"
   },
   "outputs": [
    {
     "data": {
      "text/html": [
       "<div>\n",
       "<style scoped>\n",
       "    .dataframe tbody tr th:only-of-type {\n",
       "        vertical-align: middle;\n",
       "    }\n",
       "\n",
       "    .dataframe tbody tr th {\n",
       "        vertical-align: top;\n",
       "    }\n",
       "\n",
       "    .dataframe thead th {\n",
       "        text-align: right;\n",
       "    }\n",
       "</style>\n",
       "<table border=\"1\" class=\"dataframe\">\n",
       "  <thead>\n",
       "    <tr style=\"text-align: right;\">\n",
       "      <th></th>\n",
       "      <th>symboling</th>\n",
       "      <th>normalized-losses</th>\n",
       "      <th>make</th>\n",
       "      <th>fuel-type</th>\n",
       "      <th>aspiration</th>\n",
       "      <th>num-of-doors</th>\n",
       "      <th>body-style</th>\n",
       "      <th>drive-wheels</th>\n",
       "      <th>engine-location</th>\n",
       "      <th>wheel-base</th>\n",
       "      <th>...</th>\n",
       "      <th>engine-size</th>\n",
       "      <th>fuel-system</th>\n",
       "      <th>bore</th>\n",
       "      <th>stroke</th>\n",
       "      <th>compression-ratio</th>\n",
       "      <th>horsepower</th>\n",
       "      <th>peak-rpm</th>\n",
       "      <th>city-mpg</th>\n",
       "      <th>highway-mpg</th>\n",
       "      <th>price</th>\n",
       "    </tr>\n",
       "  </thead>\n",
       "  <tbody>\n",
       "    <tr>\n",
       "      <th>0</th>\n",
       "      <td>3</td>\n",
       "      <td>?</td>\n",
       "      <td>alfa-romero</td>\n",
       "      <td>gas</td>\n",
       "      <td>std</td>\n",
       "      <td>two</td>\n",
       "      <td>convertible</td>\n",
       "      <td>rwd</td>\n",
       "      <td>front</td>\n",
       "      <td>88.6</td>\n",
       "      <td>...</td>\n",
       "      <td>130</td>\n",
       "      <td>mpfi</td>\n",
       "      <td>3.47</td>\n",
       "      <td>2.68</td>\n",
       "      <td>9.0</td>\n",
       "      <td>111</td>\n",
       "      <td>5000</td>\n",
       "      <td>21</td>\n",
       "      <td>27</td>\n",
       "      <td>13495</td>\n",
       "    </tr>\n",
       "    <tr>\n",
       "      <th>1</th>\n",
       "      <td>3</td>\n",
       "      <td>?</td>\n",
       "      <td>alfa-romero</td>\n",
       "      <td>gas</td>\n",
       "      <td>std</td>\n",
       "      <td>two</td>\n",
       "      <td>convertible</td>\n",
       "      <td>rwd</td>\n",
       "      <td>front</td>\n",
       "      <td>88.6</td>\n",
       "      <td>...</td>\n",
       "      <td>130</td>\n",
       "      <td>mpfi</td>\n",
       "      <td>3.47</td>\n",
       "      <td>2.68</td>\n",
       "      <td>9.0</td>\n",
       "      <td>111</td>\n",
       "      <td>5000</td>\n",
       "      <td>21</td>\n",
       "      <td>27</td>\n",
       "      <td>16500</td>\n",
       "    </tr>\n",
       "    <tr>\n",
       "      <th>2</th>\n",
       "      <td>1</td>\n",
       "      <td>?</td>\n",
       "      <td>alfa-romero</td>\n",
       "      <td>gas</td>\n",
       "      <td>std</td>\n",
       "      <td>two</td>\n",
       "      <td>hatchback</td>\n",
       "      <td>rwd</td>\n",
       "      <td>front</td>\n",
       "      <td>94.5</td>\n",
       "      <td>...</td>\n",
       "      <td>152</td>\n",
       "      <td>mpfi</td>\n",
       "      <td>2.68</td>\n",
       "      <td>3.47</td>\n",
       "      <td>9.0</td>\n",
       "      <td>154</td>\n",
       "      <td>5000</td>\n",
       "      <td>19</td>\n",
       "      <td>26</td>\n",
       "      <td>16500</td>\n",
       "    </tr>\n",
       "    <tr>\n",
       "      <th>3</th>\n",
       "      <td>2</td>\n",
       "      <td>164</td>\n",
       "      <td>audi</td>\n",
       "      <td>gas</td>\n",
       "      <td>std</td>\n",
       "      <td>four</td>\n",
       "      <td>sedan</td>\n",
       "      <td>fwd</td>\n",
       "      <td>front</td>\n",
       "      <td>99.8</td>\n",
       "      <td>...</td>\n",
       "      <td>109</td>\n",
       "      <td>mpfi</td>\n",
       "      <td>3.19</td>\n",
       "      <td>3.40</td>\n",
       "      <td>10.0</td>\n",
       "      <td>102</td>\n",
       "      <td>5500</td>\n",
       "      <td>24</td>\n",
       "      <td>30</td>\n",
       "      <td>13950</td>\n",
       "    </tr>\n",
       "    <tr>\n",
       "      <th>4</th>\n",
       "      <td>2</td>\n",
       "      <td>164</td>\n",
       "      <td>audi</td>\n",
       "      <td>gas</td>\n",
       "      <td>std</td>\n",
       "      <td>four</td>\n",
       "      <td>sedan</td>\n",
       "      <td>4wd</td>\n",
       "      <td>front</td>\n",
       "      <td>99.4</td>\n",
       "      <td>...</td>\n",
       "      <td>136</td>\n",
       "      <td>mpfi</td>\n",
       "      <td>3.19</td>\n",
       "      <td>3.40</td>\n",
       "      <td>8.0</td>\n",
       "      <td>115</td>\n",
       "      <td>5500</td>\n",
       "      <td>18</td>\n",
       "      <td>22</td>\n",
       "      <td>17450</td>\n",
       "    </tr>\n",
       "  </tbody>\n",
       "</table>\n",
       "<p>5 rows × 26 columns</p>\n",
       "</div>"
      ],
      "text/plain": [
       "   symboling normalized-losses         make fuel-type aspiration num-of-doors  \\\n",
       "0          3                 ?  alfa-romero       gas        std          two   \n",
       "1          3                 ?  alfa-romero       gas        std          two   \n",
       "2          1                 ?  alfa-romero       gas        std          two   \n",
       "3          2               164         audi       gas        std         four   \n",
       "4          2               164         audi       gas        std         four   \n",
       "\n",
       "    body-style drive-wheels engine-location  wheel-base  ...  engine-size  \\\n",
       "0  convertible          rwd           front        88.6  ...          130   \n",
       "1  convertible          rwd           front        88.6  ...          130   \n",
       "2    hatchback          rwd           front        94.5  ...          152   \n",
       "3        sedan          fwd           front        99.8  ...          109   \n",
       "4        sedan          4wd           front        99.4  ...          136   \n",
       "\n",
       "   fuel-system  bore  stroke compression-ratio horsepower  peak-rpm city-mpg  \\\n",
       "0         mpfi  3.47    2.68               9.0        111      5000       21   \n",
       "1         mpfi  3.47    2.68               9.0        111      5000       21   \n",
       "2         mpfi  2.68    3.47               9.0        154      5000       19   \n",
       "3         mpfi  3.19    3.40              10.0        102      5500       24   \n",
       "4         mpfi  3.19    3.40               8.0        115      5500       18   \n",
       "\n",
       "  highway-mpg  price  \n",
       "0          27  13495  \n",
       "1          27  16500  \n",
       "2          26  16500  \n",
       "3          30  13950  \n",
       "4          22  17450  \n",
       "\n",
       "[5 rows x 26 columns]"
      ]
     },
     "execution_count": 3,
     "metadata": {},
     "output_type": "execute_result"
    }
   ],
   "source": [
    "#Write your code here"
   ]
  },
  {
   "cell_type": "markdown",
   "id": "9c448a35",
   "metadata": {
    "id": "9c448a35"
   },
   "source": [
    "## 2. Data Pre-processing/Data Cleaning/Data Wrangling\n",
    "Data wrangling is the process of cleaning, structuring and enriching raw data into a format that may be better for analysis.We can pre-process data to make it more meaningful. If you recall from Lab 2, to replace ? with NaN,`.replace(A, B, inplace = True)` function is used. <br>\n",
    "Using the `inplace=True` keyword in pandas modifies the underlying data. It mutates the actual object which you apply it to. <br>\n",
    "**Task** Replace all ? with NaN and display first 10 reords\n"
   ]
  },
  {
   "cell_type": "code",
   "execution_count": null,
   "id": "30b03839",
   "metadata": {
    "id": "30b03839",
    "outputId": "0b2c1aa8-97f8-4135-af17-a11ac722d7ad"
   },
   "outputs": [
    {
     "data": {
      "text/html": [
       "<div>\n",
       "<style scoped>\n",
       "    .dataframe tbody tr th:only-of-type {\n",
       "        vertical-align: middle;\n",
       "    }\n",
       "\n",
       "    .dataframe tbody tr th {\n",
       "        vertical-align: top;\n",
       "    }\n",
       "\n",
       "    .dataframe thead th {\n",
       "        text-align: right;\n",
       "    }\n",
       "</style>\n",
       "<table border=\"1\" class=\"dataframe\">\n",
       "  <thead>\n",
       "    <tr style=\"text-align: right;\">\n",
       "      <th></th>\n",
       "      <th>symboling</th>\n",
       "      <th>normalized-losses</th>\n",
       "      <th>make</th>\n",
       "      <th>fuel-type</th>\n",
       "      <th>aspiration</th>\n",
       "      <th>num-of-doors</th>\n",
       "      <th>body-style</th>\n",
       "      <th>drive-wheels</th>\n",
       "      <th>engine-location</th>\n",
       "      <th>wheel-base</th>\n",
       "      <th>...</th>\n",
       "      <th>engine-size</th>\n",
       "      <th>fuel-system</th>\n",
       "      <th>bore</th>\n",
       "      <th>stroke</th>\n",
       "      <th>compression-ratio</th>\n",
       "      <th>horsepower</th>\n",
       "      <th>peak-rpm</th>\n",
       "      <th>city-mpg</th>\n",
       "      <th>highway-mpg</th>\n",
       "      <th>price</th>\n",
       "    </tr>\n",
       "  </thead>\n",
       "  <tbody>\n",
       "    <tr>\n",
       "      <th>0</th>\n",
       "      <td>3</td>\n",
       "      <td>NaN</td>\n",
       "      <td>alfa-romero</td>\n",
       "      <td>gas</td>\n",
       "      <td>std</td>\n",
       "      <td>two</td>\n",
       "      <td>convertible</td>\n",
       "      <td>rwd</td>\n",
       "      <td>front</td>\n",
       "      <td>88.6</td>\n",
       "      <td>...</td>\n",
       "      <td>130</td>\n",
       "      <td>mpfi</td>\n",
       "      <td>3.47</td>\n",
       "      <td>2.68</td>\n",
       "      <td>9.0</td>\n",
       "      <td>111</td>\n",
       "      <td>5000</td>\n",
       "      <td>21</td>\n",
       "      <td>27</td>\n",
       "      <td>13495</td>\n",
       "    </tr>\n",
       "    <tr>\n",
       "      <th>1</th>\n",
       "      <td>3</td>\n",
       "      <td>NaN</td>\n",
       "      <td>alfa-romero</td>\n",
       "      <td>gas</td>\n",
       "      <td>std</td>\n",
       "      <td>two</td>\n",
       "      <td>convertible</td>\n",
       "      <td>rwd</td>\n",
       "      <td>front</td>\n",
       "      <td>88.6</td>\n",
       "      <td>...</td>\n",
       "      <td>130</td>\n",
       "      <td>mpfi</td>\n",
       "      <td>3.47</td>\n",
       "      <td>2.68</td>\n",
       "      <td>9.0</td>\n",
       "      <td>111</td>\n",
       "      <td>5000</td>\n",
       "      <td>21</td>\n",
       "      <td>27</td>\n",
       "      <td>16500</td>\n",
       "    </tr>\n",
       "    <tr>\n",
       "      <th>2</th>\n",
       "      <td>1</td>\n",
       "      <td>NaN</td>\n",
       "      <td>alfa-romero</td>\n",
       "      <td>gas</td>\n",
       "      <td>std</td>\n",
       "      <td>two</td>\n",
       "      <td>hatchback</td>\n",
       "      <td>rwd</td>\n",
       "      <td>front</td>\n",
       "      <td>94.5</td>\n",
       "      <td>...</td>\n",
       "      <td>152</td>\n",
       "      <td>mpfi</td>\n",
       "      <td>2.68</td>\n",
       "      <td>3.47</td>\n",
       "      <td>9.0</td>\n",
       "      <td>154</td>\n",
       "      <td>5000</td>\n",
       "      <td>19</td>\n",
       "      <td>26</td>\n",
       "      <td>16500</td>\n",
       "    </tr>\n",
       "    <tr>\n",
       "      <th>3</th>\n",
       "      <td>2</td>\n",
       "      <td>164</td>\n",
       "      <td>audi</td>\n",
       "      <td>gas</td>\n",
       "      <td>std</td>\n",
       "      <td>four</td>\n",
       "      <td>sedan</td>\n",
       "      <td>fwd</td>\n",
       "      <td>front</td>\n",
       "      <td>99.8</td>\n",
       "      <td>...</td>\n",
       "      <td>109</td>\n",
       "      <td>mpfi</td>\n",
       "      <td>3.19</td>\n",
       "      <td>3.40</td>\n",
       "      <td>10.0</td>\n",
       "      <td>102</td>\n",
       "      <td>5500</td>\n",
       "      <td>24</td>\n",
       "      <td>30</td>\n",
       "      <td>13950</td>\n",
       "    </tr>\n",
       "    <tr>\n",
       "      <th>4</th>\n",
       "      <td>2</td>\n",
       "      <td>164</td>\n",
       "      <td>audi</td>\n",
       "      <td>gas</td>\n",
       "      <td>std</td>\n",
       "      <td>four</td>\n",
       "      <td>sedan</td>\n",
       "      <td>4wd</td>\n",
       "      <td>front</td>\n",
       "      <td>99.4</td>\n",
       "      <td>...</td>\n",
       "      <td>136</td>\n",
       "      <td>mpfi</td>\n",
       "      <td>3.19</td>\n",
       "      <td>3.40</td>\n",
       "      <td>8.0</td>\n",
       "      <td>115</td>\n",
       "      <td>5500</td>\n",
       "      <td>18</td>\n",
       "      <td>22</td>\n",
       "      <td>17450</td>\n",
       "    </tr>\n",
       "    <tr>\n",
       "      <th>5</th>\n",
       "      <td>2</td>\n",
       "      <td>NaN</td>\n",
       "      <td>audi</td>\n",
       "      <td>gas</td>\n",
       "      <td>std</td>\n",
       "      <td>two</td>\n",
       "      <td>sedan</td>\n",
       "      <td>fwd</td>\n",
       "      <td>front</td>\n",
       "      <td>99.8</td>\n",
       "      <td>...</td>\n",
       "      <td>136</td>\n",
       "      <td>mpfi</td>\n",
       "      <td>3.19</td>\n",
       "      <td>3.40</td>\n",
       "      <td>8.5</td>\n",
       "      <td>110</td>\n",
       "      <td>5500</td>\n",
       "      <td>19</td>\n",
       "      <td>25</td>\n",
       "      <td>15250</td>\n",
       "    </tr>\n",
       "    <tr>\n",
       "      <th>6</th>\n",
       "      <td>1</td>\n",
       "      <td>158</td>\n",
       "      <td>audi</td>\n",
       "      <td>gas</td>\n",
       "      <td>std</td>\n",
       "      <td>four</td>\n",
       "      <td>sedan</td>\n",
       "      <td>fwd</td>\n",
       "      <td>front</td>\n",
       "      <td>105.8</td>\n",
       "      <td>...</td>\n",
       "      <td>136</td>\n",
       "      <td>mpfi</td>\n",
       "      <td>3.19</td>\n",
       "      <td>3.40</td>\n",
       "      <td>8.5</td>\n",
       "      <td>110</td>\n",
       "      <td>5500</td>\n",
       "      <td>19</td>\n",
       "      <td>25</td>\n",
       "      <td>17710</td>\n",
       "    </tr>\n",
       "    <tr>\n",
       "      <th>7</th>\n",
       "      <td>1</td>\n",
       "      <td>NaN</td>\n",
       "      <td>audi</td>\n",
       "      <td>gas</td>\n",
       "      <td>std</td>\n",
       "      <td>four</td>\n",
       "      <td>wagon</td>\n",
       "      <td>fwd</td>\n",
       "      <td>front</td>\n",
       "      <td>105.8</td>\n",
       "      <td>...</td>\n",
       "      <td>136</td>\n",
       "      <td>mpfi</td>\n",
       "      <td>3.19</td>\n",
       "      <td>3.40</td>\n",
       "      <td>8.5</td>\n",
       "      <td>110</td>\n",
       "      <td>5500</td>\n",
       "      <td>19</td>\n",
       "      <td>25</td>\n",
       "      <td>18920</td>\n",
       "    </tr>\n",
       "    <tr>\n",
       "      <th>8</th>\n",
       "      <td>1</td>\n",
       "      <td>158</td>\n",
       "      <td>audi</td>\n",
       "      <td>gas</td>\n",
       "      <td>turbo</td>\n",
       "      <td>four</td>\n",
       "      <td>sedan</td>\n",
       "      <td>fwd</td>\n",
       "      <td>front</td>\n",
       "      <td>105.8</td>\n",
       "      <td>...</td>\n",
       "      <td>131</td>\n",
       "      <td>mpfi</td>\n",
       "      <td>3.13</td>\n",
       "      <td>3.40</td>\n",
       "      <td>8.3</td>\n",
       "      <td>140</td>\n",
       "      <td>5500</td>\n",
       "      <td>17</td>\n",
       "      <td>20</td>\n",
       "      <td>23875</td>\n",
       "    </tr>\n",
       "    <tr>\n",
       "      <th>9</th>\n",
       "      <td>0</td>\n",
       "      <td>NaN</td>\n",
       "      <td>audi</td>\n",
       "      <td>gas</td>\n",
       "      <td>turbo</td>\n",
       "      <td>two</td>\n",
       "      <td>hatchback</td>\n",
       "      <td>4wd</td>\n",
       "      <td>front</td>\n",
       "      <td>99.5</td>\n",
       "      <td>...</td>\n",
       "      <td>131</td>\n",
       "      <td>mpfi</td>\n",
       "      <td>3.13</td>\n",
       "      <td>3.40</td>\n",
       "      <td>7.0</td>\n",
       "      <td>160</td>\n",
       "      <td>5500</td>\n",
       "      <td>16</td>\n",
       "      <td>22</td>\n",
       "      <td>NaN</td>\n",
       "    </tr>\n",
       "  </tbody>\n",
       "</table>\n",
       "<p>10 rows × 26 columns</p>\n",
       "</div>"
      ],
      "text/plain": [
       "   symboling normalized-losses         make fuel-type aspiration num-of-doors  \\\n",
       "0          3               NaN  alfa-romero       gas        std          two   \n",
       "1          3               NaN  alfa-romero       gas        std          two   \n",
       "2          1               NaN  alfa-romero       gas        std          two   \n",
       "3          2               164         audi       gas        std         four   \n",
       "4          2               164         audi       gas        std         four   \n",
       "5          2               NaN         audi       gas        std          two   \n",
       "6          1               158         audi       gas        std         four   \n",
       "7          1               NaN         audi       gas        std         four   \n",
       "8          1               158         audi       gas      turbo         four   \n",
       "9          0               NaN         audi       gas      turbo          two   \n",
       "\n",
       "    body-style drive-wheels engine-location  wheel-base  ...  engine-size  \\\n",
       "0  convertible          rwd           front        88.6  ...          130   \n",
       "1  convertible          rwd           front        88.6  ...          130   \n",
       "2    hatchback          rwd           front        94.5  ...          152   \n",
       "3        sedan          fwd           front        99.8  ...          109   \n",
       "4        sedan          4wd           front        99.4  ...          136   \n",
       "5        sedan          fwd           front        99.8  ...          136   \n",
       "6        sedan          fwd           front       105.8  ...          136   \n",
       "7        wagon          fwd           front       105.8  ...          136   \n",
       "8        sedan          fwd           front       105.8  ...          131   \n",
       "9    hatchback          4wd           front        99.5  ...          131   \n",
       "\n",
       "   fuel-system  bore  stroke compression-ratio horsepower  peak-rpm city-mpg  \\\n",
       "0         mpfi  3.47    2.68               9.0        111      5000       21   \n",
       "1         mpfi  3.47    2.68               9.0        111      5000       21   \n",
       "2         mpfi  2.68    3.47               9.0        154      5000       19   \n",
       "3         mpfi  3.19    3.40              10.0        102      5500       24   \n",
       "4         mpfi  3.19    3.40               8.0        115      5500       18   \n",
       "5         mpfi  3.19    3.40               8.5        110      5500       19   \n",
       "6         mpfi  3.19    3.40               8.5        110      5500       19   \n",
       "7         mpfi  3.19    3.40               8.5        110      5500       19   \n",
       "8         mpfi  3.13    3.40               8.3        140      5500       17   \n",
       "9         mpfi  3.13    3.40               7.0        160      5500       16   \n",
       "\n",
       "  highway-mpg  price  \n",
       "0          27  13495  \n",
       "1          27  16500  \n",
       "2          26  16500  \n",
       "3          30  13950  \n",
       "4          22  17450  \n",
       "5          25  15250  \n",
       "6          25  17710  \n",
       "7          25  18920  \n",
       "8          20  23875  \n",
       "9          22    NaN  \n",
       "\n",
       "[10 rows x 26 columns]"
      ]
     },
     "execution_count": 4,
     "metadata": {},
     "output_type": "execute_result"
    }
   ],
   "source": [
    "import numpy as np\n",
    "#Write your code here"
   ]
  },
  {
   "cell_type": "markdown",
   "id": "60de5bd6",
   "metadata": {
    "id": "60de5bd6"
   },
   "source": [
    "After replacing ? with NaN, you need to evaluate the missing data. There are two methods to detect missing data:<br>\n",
    "\n",
    "**.isnull()**<br>\n",
    "**.notnull()**<br>\n",
    "\n",
    "The output of these methods is a boolean value indicating whether the value that is passed into the argument is missing or not. \n"
   ]
  },
  {
   "cell_type": "code",
   "execution_count": null,
   "id": "e556dd87",
   "metadata": {
    "id": "e556dd87",
    "outputId": "5d06e8c5-656d-479a-ebb5-df20862e1d42"
   },
   "outputs": [
    {
     "data": {
      "text/html": [
       "<div>\n",
       "<style scoped>\n",
       "    .dataframe tbody tr th:only-of-type {\n",
       "        vertical-align: middle;\n",
       "    }\n",
       "\n",
       "    .dataframe tbody tr th {\n",
       "        vertical-align: top;\n",
       "    }\n",
       "\n",
       "    .dataframe thead th {\n",
       "        text-align: right;\n",
       "    }\n",
       "</style>\n",
       "<table border=\"1\" class=\"dataframe\">\n",
       "  <thead>\n",
       "    <tr style=\"text-align: right;\">\n",
       "      <th></th>\n",
       "      <th>symboling</th>\n",
       "      <th>normalized-losses</th>\n",
       "      <th>make</th>\n",
       "      <th>fuel-type</th>\n",
       "      <th>aspiration</th>\n",
       "      <th>num-of-doors</th>\n",
       "      <th>body-style</th>\n",
       "      <th>drive-wheels</th>\n",
       "      <th>engine-location</th>\n",
       "      <th>wheel-base</th>\n",
       "      <th>...</th>\n",
       "      <th>engine-size</th>\n",
       "      <th>fuel-system</th>\n",
       "      <th>bore</th>\n",
       "      <th>stroke</th>\n",
       "      <th>compression-ratio</th>\n",
       "      <th>horsepower</th>\n",
       "      <th>peak-rpm</th>\n",
       "      <th>city-mpg</th>\n",
       "      <th>highway-mpg</th>\n",
       "      <th>price</th>\n",
       "    </tr>\n",
       "  </thead>\n",
       "  <tbody>\n",
       "    <tr>\n",
       "      <th>0</th>\n",
       "      <td>True</td>\n",
       "      <td>False</td>\n",
       "      <td>True</td>\n",
       "      <td>True</td>\n",
       "      <td>True</td>\n",
       "      <td>True</td>\n",
       "      <td>True</td>\n",
       "      <td>True</td>\n",
       "      <td>True</td>\n",
       "      <td>True</td>\n",
       "      <td>...</td>\n",
       "      <td>True</td>\n",
       "      <td>True</td>\n",
       "      <td>True</td>\n",
       "      <td>True</td>\n",
       "      <td>True</td>\n",
       "      <td>True</td>\n",
       "      <td>True</td>\n",
       "      <td>True</td>\n",
       "      <td>True</td>\n",
       "      <td>True</td>\n",
       "    </tr>\n",
       "    <tr>\n",
       "      <th>1</th>\n",
       "      <td>True</td>\n",
       "      <td>False</td>\n",
       "      <td>True</td>\n",
       "      <td>True</td>\n",
       "      <td>True</td>\n",
       "      <td>True</td>\n",
       "      <td>True</td>\n",
       "      <td>True</td>\n",
       "      <td>True</td>\n",
       "      <td>True</td>\n",
       "      <td>...</td>\n",
       "      <td>True</td>\n",
       "      <td>True</td>\n",
       "      <td>True</td>\n",
       "      <td>True</td>\n",
       "      <td>True</td>\n",
       "      <td>True</td>\n",
       "      <td>True</td>\n",
       "      <td>True</td>\n",
       "      <td>True</td>\n",
       "      <td>True</td>\n",
       "    </tr>\n",
       "    <tr>\n",
       "      <th>2</th>\n",
       "      <td>True</td>\n",
       "      <td>False</td>\n",
       "      <td>True</td>\n",
       "      <td>True</td>\n",
       "      <td>True</td>\n",
       "      <td>True</td>\n",
       "      <td>True</td>\n",
       "      <td>True</td>\n",
       "      <td>True</td>\n",
       "      <td>True</td>\n",
       "      <td>...</td>\n",
       "      <td>True</td>\n",
       "      <td>True</td>\n",
       "      <td>True</td>\n",
       "      <td>True</td>\n",
       "      <td>True</td>\n",
       "      <td>True</td>\n",
       "      <td>True</td>\n",
       "      <td>True</td>\n",
       "      <td>True</td>\n",
       "      <td>True</td>\n",
       "    </tr>\n",
       "  </tbody>\n",
       "</table>\n",
       "<p>3 rows × 26 columns</p>\n",
       "</div>"
      ],
      "text/plain": [
       "   symboling  normalized-losses  make  fuel-type  aspiration  num-of-doors  \\\n",
       "0       True              False  True       True        True          True   \n",
       "1       True              False  True       True        True          True   \n",
       "2       True              False  True       True        True          True   \n",
       "\n",
       "   body-style  drive-wheels  engine-location  wheel-base  ...  engine-size  \\\n",
       "0        True          True             True        True  ...         True   \n",
       "1        True          True             True        True  ...         True   \n",
       "2        True          True             True        True  ...         True   \n",
       "\n",
       "   fuel-system  bore  stroke  compression-ratio  horsepower  peak-rpm  \\\n",
       "0         True  True    True               True        True      True   \n",
       "1         True  True    True               True        True      True   \n",
       "2         True  True    True               True        True      True   \n",
       "\n",
       "   city-mpg  highway-mpg  price  \n",
       "0      True         True   True  \n",
       "1      True         True   True  \n",
       "2      True         True   True  \n",
       "\n",
       "[3 rows x 26 columns]"
      ]
     },
     "execution_count": 5,
     "metadata": {},
     "output_type": "execute_result"
    }
   ],
   "source": [
    "missingdata = df.notnull()\n",
    "missingdata.head(3)"
   ]
  },
  {
   "cell_type": "markdown",
   "id": "5cf909d8",
   "metadata": {
    "id": "5cf909d8"
   },
   "source": [
    "In the above output, True means that the data is not a missing value and false means that data is missing. Recalling from Lab 2, there are different ways to deal with missing data and these are as follows: \n",
    "<br><br>\n",
    "**Drop data**<br>\n",
    "Drop the whole row<br>\n",
    "Drop the whole column<br>\n",
    "**Replace data**<br>\n",
    "Replace it by mean<br>\n",
    "Replace it by frequency<br>\n",
    "Replace it based on other functions<br>\n",
    "\n",
    "If you want you can count the number of missing values for each column and than decide what you want to do with the missing values. You can use `value_counts()` to count the number of missing values.e.g the number of missing values in normalized-losses can be found as follows"
   ]
  },
  {
   "cell_type": "code",
   "execution_count": null,
   "id": "ed7565a0",
   "metadata": {
    "id": "ed7565a0",
    "outputId": "62286b9c-8c48-4ec6-8055-9d2d4ee14399"
   },
   "outputs": [
    {
     "name": "stdout",
     "output_type": "stream",
     "text": [
      "True     164\n",
      "False     41\n",
      "Name: normalized-losses, dtype: int64\n"
     ]
    }
   ],
   "source": [
    " print(missingdata['normalized-losses'].value_counts())"
   ]
  },
  {
   "cell_type": "markdown",
   "id": "9f101400",
   "metadata": {
    "id": "9f101400"
   },
   "source": [
    "In the above example, you can see that 41 values are missing from the normalized-losses. Similarly you can find the missing values for each column. <br>\n",
    "Lets find the missing values for each column. <br>"
   ]
  },
  {
   "cell_type": "code",
   "execution_count": null,
   "id": "37c0c243",
   "metadata": {
    "id": "37c0c243",
    "outputId": "872df34b-3801-4624-b9db-103c17add44f"
   },
   "outputs": [
    {
     "name": "stdout",
     "output_type": "stream",
     "text": [
      "symboling\n",
      "True    205\n",
      "Name: symboling, dtype: int64\n",
      "\n",
      "normalized-losses\n",
      "True     164\n",
      "False     41\n",
      "Name: normalized-losses, dtype: int64\n",
      "\n",
      "make\n",
      "True    205\n",
      "Name: make, dtype: int64\n",
      "\n",
      "fuel-type\n",
      "True    205\n",
      "Name: fuel-type, dtype: int64\n",
      "\n",
      "aspiration\n",
      "True    205\n",
      "Name: aspiration, dtype: int64\n",
      "\n",
      "num-of-doors\n",
      "True     203\n",
      "False      2\n",
      "Name: num-of-doors, dtype: int64\n",
      "\n",
      "body-style\n",
      "True    205\n",
      "Name: body-style, dtype: int64\n",
      "\n",
      "drive-wheels\n",
      "True    205\n",
      "Name: drive-wheels, dtype: int64\n",
      "\n",
      "engine-location\n",
      "True    205\n",
      "Name: engine-location, dtype: int64\n",
      "\n",
      "wheel-base\n",
      "True    205\n",
      "Name: wheel-base, dtype: int64\n",
      "\n",
      "length\n",
      "True    205\n",
      "Name: length, dtype: int64\n",
      "\n",
      "width\n",
      "True    205\n",
      "Name: width, dtype: int64\n",
      "\n",
      "height\n",
      "True    205\n",
      "Name: height, dtype: int64\n",
      "\n",
      "curb-weight\n",
      "True    205\n",
      "Name: curb-weight, dtype: int64\n",
      "\n",
      "engine-type\n",
      "True    205\n",
      "Name: engine-type, dtype: int64\n",
      "\n",
      "num-of-cylinders\n",
      "True    205\n",
      "Name: num-of-cylinders, dtype: int64\n",
      "\n",
      "engine-size\n",
      "True    205\n",
      "Name: engine-size, dtype: int64\n",
      "\n",
      "fuel-system\n",
      "True    205\n",
      "Name: fuel-system, dtype: int64\n",
      "\n",
      "bore\n",
      "True     201\n",
      "False      4\n",
      "Name: bore, dtype: int64\n",
      "\n",
      "stroke\n",
      "True     201\n",
      "False      4\n",
      "Name: stroke, dtype: int64\n",
      "\n",
      "compression-ratio\n",
      "True    205\n",
      "Name: compression-ratio, dtype: int64\n",
      "\n",
      "horsepower\n",
      "True     203\n",
      "False      2\n",
      "Name: horsepower, dtype: int64\n",
      "\n",
      "peak-rpm\n",
      "True     203\n",
      "False      2\n",
      "Name: peak-rpm, dtype: int64\n",
      "\n",
      "city-mpg\n",
      "True    205\n",
      "Name: city-mpg, dtype: int64\n",
      "\n",
      "highway-mpg\n",
      "True    205\n",
      "Name: highway-mpg, dtype: int64\n",
      "\n",
      "price\n",
      "True     201\n",
      "False      4\n",
      "Name: price, dtype: int64\n",
      "\n"
     ]
    }
   ],
   "source": [
    "missingdata = df.notnull()\n",
    "for column in missingdata.columns.values.tolist():\n",
    "    print(column)\n",
    "    print (missingdata[column].value_counts())\n",
    "    print(\"\") "
   ]
  },
  {
   "cell_type": "markdown",
   "id": "b598bbcb",
   "metadata": {
    "id": "b598bbcb"
   },
   "source": [
    "We will replace the missing values of normalized-losses with average value i.e. mean. \n"
   ]
  },
  {
   "cell_type": "code",
   "execution_count": null,
   "id": "98686112",
   "metadata": {
    "id": "98686112",
    "outputId": "39b8b458-e4ed-485d-b278-46cc17d2f32a"
   },
   "outputs": [
    {
     "name": "stdout",
     "output_type": "stream",
     "text": [
      "True    205\n",
      "Name: normalized-losses, dtype: int64\n"
     ]
    }
   ],
   "source": [
    "mean_normloss = df[\"normalized-losses\"].astype(\"float\").mean(axis=0) #axis = 0 means along the column \n",
    "df[\"normalized-losses\"].replace(np.nan, mean_normloss, inplace=True)\n",
    "missingdata = df.notnull()\n",
    "print (missingdata['normalized-losses'].value_counts())"
   ]
  },
  {
   "cell_type": "markdown",
   "id": "a433abb1",
   "metadata": {
    "id": "a433abb1"
   },
   "source": [
    "After replacing NaN values for normalized-losses we again print the missing values.You can note that there are no missing values for normalized-losses now. <br>\n",
    "**Task** In our data set, for following columns replace the missing values with the average value( i.e. mean).<br>\n",
    "\"stroke\", \"bore\", \"horsepower\", \"peak-rpm\"\n",
    "\n"
   ]
  },
  {
   "cell_type": "code",
   "execution_count": null,
   "id": "f6448126",
   "metadata": {
    "id": "f6448126"
   },
   "outputs": [],
   "source": [
    "#Write your code here"
   ]
  },
  {
   "cell_type": "markdown",
   "id": "cd9254c5",
   "metadata": {
    "id": "cd9254c5"
   },
   "source": [
    "If you observe the dataset, you will find that the num-of-doors is non-numeric hence you cannot take mean. Lets calculate the frequencies of items. You can use counter function. Other alternatives to calculate frequency are `value_counts()` and `idxmax()`."
   ]
  },
  {
   "cell_type": "code",
   "execution_count": null,
   "id": "ee275f46",
   "metadata": {
    "id": "ee275f46",
    "outputId": "aad147a2-828c-4b56-fd05-560c27679c3d"
   },
   "outputs": [
    {
     "data": {
      "text/plain": [
       "Counter({'two': 89, 'four': 114, nan: 2})"
      ]
     },
     "execution_count": 10,
     "metadata": {},
     "output_type": "execute_result"
    }
   ],
   "source": [
    "from collections import Counter\n",
    "Counter(df[\"num-of-doors\"])"
   ]
  },
  {
   "cell_type": "markdown",
   "id": "429873a3",
   "metadata": {
    "id": "429873a3"
   },
   "source": [
    "From the above output, you can see that four doors is most frequent occuring value,so we will replace the missing values in `num-of-doors` with four. <br>\n",
    "**Task** Replace the NaN value with four for \"num-of-doors\""
   ]
  },
  {
   "cell_type": "code",
   "execution_count": null,
   "id": "c48f47a3",
   "metadata": {
    "id": "c48f47a3"
   },
   "outputs": [],
   "source": [
    "#Write your code here"
   ]
  },
  {
   "cell_type": "markdown",
   "id": "9b743016",
   "metadata": {
    "id": "9b743016"
   },
   "source": [
    "As our final goal is to pridict the price so the rows where price is missing are not use ful in training and testing the model so we will drop the rows where price value is missing. <br>\n",
    "**Task** Recall dropna from lab 2 and drop the rows with missing price value."
   ]
  },
  {
   "cell_type": "code",
   "execution_count": null,
   "id": "945182f1",
   "metadata": {
    "id": "945182f1"
   },
   "outputs": [],
   "source": [
    "#Write your code here"
   ]
  },
  {
   "cell_type": "markdown",
   "id": "ed85a0fb",
   "metadata": {
    "id": "ed85a0fb"
   },
   "source": [
    "You may wish to reset the id's as some rows are droped from the dataset. To reset the index you can use `reset_index`"
   ]
  },
  {
   "cell_type": "code",
   "execution_count": null,
   "id": "5dd8df0b",
   "metadata": {
    "id": "5dd8df0b"
   },
   "outputs": [],
   "source": [
    "df.reset_index(drop=True, inplace=True)"
   ]
  },
  {
   "cell_type": "markdown",
   "id": "8d69dea8",
   "metadata": {
    "id": "8d69dea8"
   },
   "source": [
    "**Task** Display the bottom 10 rows of the dataframe"
   ]
  },
  {
   "cell_type": "code",
   "execution_count": null,
   "id": "f6d03e96",
   "metadata": {
    "id": "f6d03e96",
    "outputId": "677a46fc-580e-4a1f-a196-e6eb3b9d3df0"
   },
   "outputs": [
    {
     "data": {
      "text/html": [
       "<div>\n",
       "<style scoped>\n",
       "    .dataframe tbody tr th:only-of-type {\n",
       "        vertical-align: middle;\n",
       "    }\n",
       "\n",
       "    .dataframe tbody tr th {\n",
       "        vertical-align: top;\n",
       "    }\n",
       "\n",
       "    .dataframe thead th {\n",
       "        text-align: right;\n",
       "    }\n",
       "</style>\n",
       "<table border=\"1\" class=\"dataframe\">\n",
       "  <thead>\n",
       "    <tr style=\"text-align: right;\">\n",
       "      <th></th>\n",
       "      <th>symboling</th>\n",
       "      <th>normalized-losses</th>\n",
       "      <th>make</th>\n",
       "      <th>fuel-type</th>\n",
       "      <th>aspiration</th>\n",
       "      <th>num-of-doors</th>\n",
       "      <th>body-style</th>\n",
       "      <th>drive-wheels</th>\n",
       "      <th>engine-location</th>\n",
       "      <th>wheel-base</th>\n",
       "      <th>...</th>\n",
       "      <th>engine-size</th>\n",
       "      <th>fuel-system</th>\n",
       "      <th>bore</th>\n",
       "      <th>stroke</th>\n",
       "      <th>compression-ratio</th>\n",
       "      <th>horsepower</th>\n",
       "      <th>peak-rpm</th>\n",
       "      <th>city-mpg</th>\n",
       "      <th>highway-mpg</th>\n",
       "      <th>price</th>\n",
       "    </tr>\n",
       "  </thead>\n",
       "  <tbody>\n",
       "    <tr>\n",
       "      <th>191</th>\n",
       "      <td>-1</td>\n",
       "      <td>74</td>\n",
       "      <td>volvo</td>\n",
       "      <td>gas</td>\n",
       "      <td>std</td>\n",
       "      <td>four</td>\n",
       "      <td>wagon</td>\n",
       "      <td>rwd</td>\n",
       "      <td>front</td>\n",
       "      <td>104.3</td>\n",
       "      <td>...</td>\n",
       "      <td>141</td>\n",
       "      <td>mpfi</td>\n",
       "      <td>3.78</td>\n",
       "      <td>3.15</td>\n",
       "      <td>9.5</td>\n",
       "      <td>114</td>\n",
       "      <td>5400</td>\n",
       "      <td>23</td>\n",
       "      <td>28</td>\n",
       "      <td>13415</td>\n",
       "    </tr>\n",
       "    <tr>\n",
       "      <th>192</th>\n",
       "      <td>-2</td>\n",
       "      <td>103</td>\n",
       "      <td>volvo</td>\n",
       "      <td>gas</td>\n",
       "      <td>std</td>\n",
       "      <td>four</td>\n",
       "      <td>sedan</td>\n",
       "      <td>rwd</td>\n",
       "      <td>front</td>\n",
       "      <td>104.3</td>\n",
       "      <td>...</td>\n",
       "      <td>141</td>\n",
       "      <td>mpfi</td>\n",
       "      <td>3.78</td>\n",
       "      <td>3.15</td>\n",
       "      <td>9.5</td>\n",
       "      <td>114</td>\n",
       "      <td>5400</td>\n",
       "      <td>24</td>\n",
       "      <td>28</td>\n",
       "      <td>15985</td>\n",
       "    </tr>\n",
       "    <tr>\n",
       "      <th>193</th>\n",
       "      <td>-1</td>\n",
       "      <td>74</td>\n",
       "      <td>volvo</td>\n",
       "      <td>gas</td>\n",
       "      <td>std</td>\n",
       "      <td>four</td>\n",
       "      <td>wagon</td>\n",
       "      <td>rwd</td>\n",
       "      <td>front</td>\n",
       "      <td>104.3</td>\n",
       "      <td>...</td>\n",
       "      <td>141</td>\n",
       "      <td>mpfi</td>\n",
       "      <td>3.78</td>\n",
       "      <td>3.15</td>\n",
       "      <td>9.5</td>\n",
       "      <td>114</td>\n",
       "      <td>5400</td>\n",
       "      <td>24</td>\n",
       "      <td>28</td>\n",
       "      <td>16515</td>\n",
       "    </tr>\n",
       "    <tr>\n",
       "      <th>194</th>\n",
       "      <td>-2</td>\n",
       "      <td>103</td>\n",
       "      <td>volvo</td>\n",
       "      <td>gas</td>\n",
       "      <td>turbo</td>\n",
       "      <td>four</td>\n",
       "      <td>sedan</td>\n",
       "      <td>rwd</td>\n",
       "      <td>front</td>\n",
       "      <td>104.3</td>\n",
       "      <td>...</td>\n",
       "      <td>130</td>\n",
       "      <td>mpfi</td>\n",
       "      <td>3.62</td>\n",
       "      <td>3.15</td>\n",
       "      <td>7.5</td>\n",
       "      <td>162</td>\n",
       "      <td>5100</td>\n",
       "      <td>17</td>\n",
       "      <td>22</td>\n",
       "      <td>18420</td>\n",
       "    </tr>\n",
       "    <tr>\n",
       "      <th>195</th>\n",
       "      <td>-1</td>\n",
       "      <td>74</td>\n",
       "      <td>volvo</td>\n",
       "      <td>gas</td>\n",
       "      <td>turbo</td>\n",
       "      <td>four</td>\n",
       "      <td>wagon</td>\n",
       "      <td>rwd</td>\n",
       "      <td>front</td>\n",
       "      <td>104.3</td>\n",
       "      <td>...</td>\n",
       "      <td>130</td>\n",
       "      <td>mpfi</td>\n",
       "      <td>3.62</td>\n",
       "      <td>3.15</td>\n",
       "      <td>7.5</td>\n",
       "      <td>162</td>\n",
       "      <td>5100</td>\n",
       "      <td>17</td>\n",
       "      <td>22</td>\n",
       "      <td>18950</td>\n",
       "    </tr>\n",
       "    <tr>\n",
       "      <th>196</th>\n",
       "      <td>-1</td>\n",
       "      <td>95</td>\n",
       "      <td>volvo</td>\n",
       "      <td>gas</td>\n",
       "      <td>std</td>\n",
       "      <td>four</td>\n",
       "      <td>sedan</td>\n",
       "      <td>rwd</td>\n",
       "      <td>front</td>\n",
       "      <td>109.1</td>\n",
       "      <td>...</td>\n",
       "      <td>141</td>\n",
       "      <td>mpfi</td>\n",
       "      <td>3.78</td>\n",
       "      <td>3.15</td>\n",
       "      <td>9.5</td>\n",
       "      <td>114</td>\n",
       "      <td>5400</td>\n",
       "      <td>23</td>\n",
       "      <td>28</td>\n",
       "      <td>16845</td>\n",
       "    </tr>\n",
       "    <tr>\n",
       "      <th>197</th>\n",
       "      <td>-1</td>\n",
       "      <td>95</td>\n",
       "      <td>volvo</td>\n",
       "      <td>gas</td>\n",
       "      <td>turbo</td>\n",
       "      <td>four</td>\n",
       "      <td>sedan</td>\n",
       "      <td>rwd</td>\n",
       "      <td>front</td>\n",
       "      <td>109.1</td>\n",
       "      <td>...</td>\n",
       "      <td>141</td>\n",
       "      <td>mpfi</td>\n",
       "      <td>3.78</td>\n",
       "      <td>3.15</td>\n",
       "      <td>8.7</td>\n",
       "      <td>160</td>\n",
       "      <td>5300</td>\n",
       "      <td>19</td>\n",
       "      <td>25</td>\n",
       "      <td>19045</td>\n",
       "    </tr>\n",
       "    <tr>\n",
       "      <th>198</th>\n",
       "      <td>-1</td>\n",
       "      <td>95</td>\n",
       "      <td>volvo</td>\n",
       "      <td>gas</td>\n",
       "      <td>std</td>\n",
       "      <td>four</td>\n",
       "      <td>sedan</td>\n",
       "      <td>rwd</td>\n",
       "      <td>front</td>\n",
       "      <td>109.1</td>\n",
       "      <td>...</td>\n",
       "      <td>173</td>\n",
       "      <td>mpfi</td>\n",
       "      <td>3.58</td>\n",
       "      <td>2.87</td>\n",
       "      <td>8.8</td>\n",
       "      <td>134</td>\n",
       "      <td>5500</td>\n",
       "      <td>18</td>\n",
       "      <td>23</td>\n",
       "      <td>21485</td>\n",
       "    </tr>\n",
       "    <tr>\n",
       "      <th>199</th>\n",
       "      <td>-1</td>\n",
       "      <td>95</td>\n",
       "      <td>volvo</td>\n",
       "      <td>diesel</td>\n",
       "      <td>turbo</td>\n",
       "      <td>four</td>\n",
       "      <td>sedan</td>\n",
       "      <td>rwd</td>\n",
       "      <td>front</td>\n",
       "      <td>109.1</td>\n",
       "      <td>...</td>\n",
       "      <td>145</td>\n",
       "      <td>idi</td>\n",
       "      <td>3.01</td>\n",
       "      <td>3.40</td>\n",
       "      <td>23.0</td>\n",
       "      <td>106</td>\n",
       "      <td>4800</td>\n",
       "      <td>26</td>\n",
       "      <td>27</td>\n",
       "      <td>22470</td>\n",
       "    </tr>\n",
       "    <tr>\n",
       "      <th>200</th>\n",
       "      <td>-1</td>\n",
       "      <td>95</td>\n",
       "      <td>volvo</td>\n",
       "      <td>gas</td>\n",
       "      <td>turbo</td>\n",
       "      <td>four</td>\n",
       "      <td>sedan</td>\n",
       "      <td>rwd</td>\n",
       "      <td>front</td>\n",
       "      <td>109.1</td>\n",
       "      <td>...</td>\n",
       "      <td>141</td>\n",
       "      <td>mpfi</td>\n",
       "      <td>3.78</td>\n",
       "      <td>3.15</td>\n",
       "      <td>9.5</td>\n",
       "      <td>114</td>\n",
       "      <td>5400</td>\n",
       "      <td>19</td>\n",
       "      <td>25</td>\n",
       "      <td>22625</td>\n",
       "    </tr>\n",
       "  </tbody>\n",
       "</table>\n",
       "<p>10 rows × 26 columns</p>\n",
       "</div>"
      ],
      "text/plain": [
       "     symboling normalized-losses   make fuel-type aspiration num-of-doors  \\\n",
       "191         -1                74  volvo       gas        std         four   \n",
       "192         -2               103  volvo       gas        std         four   \n",
       "193         -1                74  volvo       gas        std         four   \n",
       "194         -2               103  volvo       gas      turbo         four   \n",
       "195         -1                74  volvo       gas      turbo         four   \n",
       "196         -1                95  volvo       gas        std         four   \n",
       "197         -1                95  volvo       gas      turbo         four   \n",
       "198         -1                95  volvo       gas        std         four   \n",
       "199         -1                95  volvo    diesel      turbo         four   \n",
       "200         -1                95  volvo       gas      turbo         four   \n",
       "\n",
       "    body-style drive-wheels engine-location  wheel-base  ...  engine-size  \\\n",
       "191      wagon          rwd           front       104.3  ...          141   \n",
       "192      sedan          rwd           front       104.3  ...          141   \n",
       "193      wagon          rwd           front       104.3  ...          141   \n",
       "194      sedan          rwd           front       104.3  ...          130   \n",
       "195      wagon          rwd           front       104.3  ...          130   \n",
       "196      sedan          rwd           front       109.1  ...          141   \n",
       "197      sedan          rwd           front       109.1  ...          141   \n",
       "198      sedan          rwd           front       109.1  ...          173   \n",
       "199      sedan          rwd           front       109.1  ...          145   \n",
       "200      sedan          rwd           front       109.1  ...          141   \n",
       "\n",
       "     fuel-system  bore  stroke compression-ratio horsepower  peak-rpm  \\\n",
       "191         mpfi  3.78    3.15               9.5        114      5400   \n",
       "192         mpfi  3.78    3.15               9.5        114      5400   \n",
       "193         mpfi  3.78    3.15               9.5        114      5400   \n",
       "194         mpfi  3.62    3.15               7.5        162      5100   \n",
       "195         mpfi  3.62    3.15               7.5        162      5100   \n",
       "196         mpfi  3.78    3.15               9.5        114      5400   \n",
       "197         mpfi  3.78    3.15               8.7        160      5300   \n",
       "198         mpfi  3.58    2.87               8.8        134      5500   \n",
       "199          idi  3.01    3.40              23.0        106      4800   \n",
       "200         mpfi  3.78    3.15               9.5        114      5400   \n",
       "\n",
       "    city-mpg highway-mpg  price  \n",
       "191       23          28  13415  \n",
       "192       24          28  15985  \n",
       "193       24          28  16515  \n",
       "194       17          22  18420  \n",
       "195       17          22  18950  \n",
       "196       23          28  16845  \n",
       "197       19          25  19045  \n",
       "198       18          23  21485  \n",
       "199       26          27  22470  \n",
       "200       19          25  22625  \n",
       "\n",
       "[10 rows x 26 columns]"
      ]
     },
     "execution_count": 14,
     "metadata": {},
     "output_type": "execute_result"
    }
   ],
   "source": [
    "#Write your code here"
   ]
  },
  {
   "cell_type": "markdown",
   "id": "db7134ae",
   "metadata": {
    "id": "db7134ae"
   },
   "source": [
    "If you want you can check if you still have any missing values."
   ]
  },
  {
   "cell_type": "code",
   "execution_count": null,
   "id": "c1691e71",
   "metadata": {
    "id": "c1691e71",
    "outputId": "6d18495f-d4cd-4003-dca1-f5195fa0c6a0"
   },
   "outputs": [
    {
     "name": "stdout",
     "output_type": "stream",
     "text": [
      "symboling\n",
      "True    205\n",
      "Name: symboling, dtype: int64\n",
      "\n",
      "normalized-losses\n",
      "True    205\n",
      "Name: normalized-losses, dtype: int64\n",
      "\n",
      "make\n",
      "True    205\n",
      "Name: make, dtype: int64\n",
      "\n",
      "fuel-type\n",
      "True    205\n",
      "Name: fuel-type, dtype: int64\n",
      "\n",
      "aspiration\n",
      "True    205\n",
      "Name: aspiration, dtype: int64\n",
      "\n",
      "num-of-doors\n",
      "True     203\n",
      "False      2\n",
      "Name: num-of-doors, dtype: int64\n",
      "\n",
      "body-style\n",
      "True    205\n",
      "Name: body-style, dtype: int64\n",
      "\n",
      "drive-wheels\n",
      "True    205\n",
      "Name: drive-wheels, dtype: int64\n",
      "\n",
      "engine-location\n",
      "True    205\n",
      "Name: engine-location, dtype: int64\n",
      "\n",
      "wheel-base\n",
      "True    205\n",
      "Name: wheel-base, dtype: int64\n",
      "\n",
      "length\n",
      "True    205\n",
      "Name: length, dtype: int64\n",
      "\n",
      "width\n",
      "True    205\n",
      "Name: width, dtype: int64\n",
      "\n",
      "height\n",
      "True    205\n",
      "Name: height, dtype: int64\n",
      "\n",
      "curb-weight\n",
      "True    205\n",
      "Name: curb-weight, dtype: int64\n",
      "\n",
      "engine-type\n",
      "True    205\n",
      "Name: engine-type, dtype: int64\n",
      "\n",
      "num-of-cylinders\n",
      "True    205\n",
      "Name: num-of-cylinders, dtype: int64\n",
      "\n",
      "engine-size\n",
      "True    205\n",
      "Name: engine-size, dtype: int64\n",
      "\n",
      "fuel-system\n",
      "True    205\n",
      "Name: fuel-system, dtype: int64\n",
      "\n",
      "bore\n",
      "True     201\n",
      "False      4\n",
      "Name: bore, dtype: int64\n",
      "\n",
      "stroke\n",
      "True     201\n",
      "False      4\n",
      "Name: stroke, dtype: int64\n",
      "\n",
      "compression-ratio\n",
      "True    205\n",
      "Name: compression-ratio, dtype: int64\n",
      "\n",
      "horsepower\n",
      "True     203\n",
      "False      2\n",
      "Name: horsepower, dtype: int64\n",
      "\n",
      "peak-rpm\n",
      "True     203\n",
      "False      2\n",
      "Name: peak-rpm, dtype: int64\n",
      "\n",
      "city-mpg\n",
      "True    205\n",
      "Name: city-mpg, dtype: int64\n",
      "\n",
      "highway-mpg\n",
      "True    205\n",
      "Name: highway-mpg, dtype: int64\n",
      "\n",
      "price\n",
      "True     201\n",
      "False      4\n",
      "Name: price, dtype: int64\n",
      "\n"
     ]
    }
   ],
   "source": [
    "for column in missingdata.columns.values.tolist():\n",
    "    print(column)\n",
    "    print (missingdata[column].value_counts())\n",
    "    print(\"\")  "
   ]
  },
  {
   "cell_type": "markdown",
   "id": "83debf63",
   "metadata": {
    "id": "83debf63"
   },
   "source": [
    "**Yahoo!!!!!!** there are no more missing values in the dataset. After removing all the missing values you may want to save this dataset. If you want to save the dataset you can use `df.to_csv()`. Alternatively, you can also save the dataset after applying data normalisation."
   ]
  },
  {
   "cell_type": "markdown",
   "id": "c6f27fe4",
   "metadata": {
    "id": "c6f27fe4"
   },
   "source": [
    "## Data Normalisation\n",
    "Normalisation is a technique often applied as part of data preparation for machine learning. The goal of normalisation is to change the values of numeric columns in the dataset to use a common scale, without distorting differences in the ranges of values or losing information. We learned different data normalisation techniques in Lab 2 such as Min-max normalisation,standard score, simple feature scaling etc.  \n",
    "**Task** Normalise the length, width and height  using the min-max normalisation and display length, width and height of first five records.<br>\n",
    "**Hint: Min-Max Normalisation Formula**<br>\n",
    "$$\n",
    "\\frac{X - X_{min}}{X_{max}-X_{min}}\n",
    "$$\n"
   ]
  },
  {
   "cell_type": "code",
   "execution_count": null,
   "id": "67e40cb0",
   "metadata": {
    "id": "67e40cb0",
    "outputId": "c0d56651-739b-4864-d290-910be1ff8e61",
    "scrolled": true
   },
   "outputs": [
    {
     "data": {
      "text/html": [
       "<div>\n",
       "<style scoped>\n",
       "    .dataframe tbody tr th:only-of-type {\n",
       "        vertical-align: middle;\n",
       "    }\n",
       "\n",
       "    .dataframe tbody tr th {\n",
       "        vertical-align: top;\n",
       "    }\n",
       "\n",
       "    .dataframe thead th {\n",
       "        text-align: right;\n",
       "    }\n",
       "</style>\n",
       "<table border=\"1\" class=\"dataframe\">\n",
       "  <thead>\n",
       "    <tr style=\"text-align: right;\">\n",
       "      <th></th>\n",
       "      <th>length</th>\n",
       "      <th>width</th>\n",
       "      <th>height</th>\n",
       "    </tr>\n",
       "  </thead>\n",
       "  <tbody>\n",
       "    <tr>\n",
       "      <th>0</th>\n",
       "      <td>0.413433</td>\n",
       "      <td>0.324786</td>\n",
       "      <td>0.083333</td>\n",
       "    </tr>\n",
       "    <tr>\n",
       "      <th>1</th>\n",
       "      <td>0.413433</td>\n",
       "      <td>0.324786</td>\n",
       "      <td>0.083333</td>\n",
       "    </tr>\n",
       "    <tr>\n",
       "      <th>2</th>\n",
       "      <td>0.449254</td>\n",
       "      <td>0.444444</td>\n",
       "      <td>0.383333</td>\n",
       "    </tr>\n",
       "    <tr>\n",
       "      <th>3</th>\n",
       "      <td>0.529851</td>\n",
       "      <td>0.504274</td>\n",
       "      <td>0.541667</td>\n",
       "    </tr>\n",
       "    <tr>\n",
       "      <th>4</th>\n",
       "      <td>0.529851</td>\n",
       "      <td>0.521368</td>\n",
       "      <td>0.541667</td>\n",
       "    </tr>\n",
       "  </tbody>\n",
       "</table>\n",
       "</div>"
      ],
      "text/plain": [
       "     length     width    height\n",
       "0  0.413433  0.324786  0.083333\n",
       "1  0.413433  0.324786  0.083333\n",
       "2  0.449254  0.444444  0.383333\n",
       "3  0.529851  0.504274  0.541667\n",
       "4  0.529851  0.521368  0.541667"
      ]
     },
     "execution_count": 16,
     "metadata": {},
     "output_type": "execute_result"
    }
   ],
   "source": [
    "#Write your code here"
   ]
  },
  {
   "cell_type": "markdown",
   "id": "21b8c1df",
   "metadata": {
    "id": "21b8c1df"
   },
   "source": [
    "Now we can see that length, widht and height are now normalised and are in 0-1 range. "
   ]
  },
  {
   "cell_type": "markdown",
   "id": "0f4bd665",
   "metadata": {
    "id": "0f4bd665"
   },
   "source": [
    "Lets observe our data further and visualise the horse power. \n"
   ]
  },
  {
   "cell_type": "code",
   "execution_count": null,
   "id": "c9bbe5bd",
   "metadata": {
    "id": "c9bbe5bd",
    "outputId": "e3c6766b-918b-4743-b8f9-0277d88d5abe"
   },
   "outputs": [
    {
     "data": {
      "text/plain": [
       "count     201\n",
       "unique     59\n",
       "top        68\n",
       "freq       19\n",
       "Name: horsepower, dtype: object"
      ]
     },
     "execution_count": 17,
     "metadata": {},
     "output_type": "execute_result"
    }
   ],
   "source": [
    "df['horsepower'].describe()"
   ]
  },
  {
   "cell_type": "code",
   "execution_count": null,
   "id": "0fba32bc",
   "metadata": {
    "id": "0fba32bc",
    "outputId": "4c211a44-322b-46b2-a1f5-ae8ae2d19be4"
   },
   "outputs": [
    {
     "data": {
      "text/plain": [
       "59"
      ]
     },
     "execution_count": 18,
     "metadata": {},
     "output_type": "execute_result"
    }
   ],
   "source": [
    "df['horsepower'].nunique()"
   ]
  },
  {
   "cell_type": "markdown",
   "id": "bdf3124d",
   "metadata": {
    "id": "bdf3124d"
   },
   "source": [
    "We can see that \"horsepower\" is a real valued variable ranging from 48 to 288 and it has 59 unique values. Lets now try to visualise this data."
   ]
  },
  {
   "cell_type": "code",
   "execution_count": null,
   "id": "03f4ce52",
   "metadata": {
    "id": "03f4ce52",
    "outputId": "8bb47e8d-9f0b-4833-9db1-5e2ef10f7334"
   },
   "outputs": [
    {
     "data": {
      "text/plain": [
       "Text(0.5, 1.0, 'Total Horsepower Bins')"
      ]
     },
     "execution_count": 19,
     "metadata": {},
     "output_type": "execute_result"
    },
    {
     "data": {
      "image/png": "[encoded data removed]",
      "text/plain": [
       "<Figure size 640x480 with 1 Axes>"
      ]
     },
     "metadata": {},
     "output_type": "display_data"
    }
   ],
   "source": [
    "df[\"horsepower\"]=df[\"horsepower\"].astype(int, copy=True)\n",
    "%matplotlib inline\n",
    "import matplotlib as plt\n",
    "from matplotlib import pyplot\n",
    "plt.pyplot.hist(df[\"horsepower\"])\n",
    "\n",
    "# set x/y labels and plot title\n",
    "plt.pyplot.xlabel(\"Hourse Power\")\n",
    "plt.pyplot.ylabel(\"Count\")\n",
    "plt.pyplot.title(\"Total Horsepower Bins\")"
   ]
  },
  {
   "cell_type": "markdown",
   "id": "1ddb1218",
   "metadata": {
    "id": "1ddb1218"
   },
   "source": [
    "\n",
    "## Binning \n",
    "Binning is a way to group a number of more or less continuous values into a smaller number of \"bins\".We can convert horsepower data into discrete number of bins e.g 3 bins to make the data distribution more understandable. Sometime binning also helps in increasing the model accuracy. To create bins you can use `linspace` function.<br>\n",
    "We can apply the function `cut()` to determine the bin for each hoursepower value.Pandas cut() function is used to separate the array elements into different bins [1]."
   ]
  },
  {
   "cell_type": "code",
   "execution_count": null,
   "id": "d13428f8",
   "metadata": {
    "id": "d13428f8",
    "outputId": "5a8e9e7e-86ec-4e31-f1de-5c62ffcaf286"
   },
   "outputs": [
    {
     "data": {
      "text/plain": [
       "Text(0.5, 1.0, 'Total Horsepower Bins')"
      ]
     },
     "execution_count": 20,
     "metadata": {},
     "output_type": "execute_result"
    },
    {
     "data": {
      "image/png": "[encoded data removed]",
      "text/plain": [
       "<Figure size 640x480 with 1 Axes>"
      ]
     },
     "metadata": {},
     "output_type": "display_data"
    }
   ],
   "source": [
    "bins = np.linspace(min(df[\"horsepower\"]), max(df[\"horsepower\"]), 4)\n",
    "group_names = ['Low', 'Medium', 'High']\n",
    "df['horsepower-binned'] = pd.cut(df['horsepower'], bins, labels=group_names, include_lowest=True )\n",
    "%matplotlib inline\n",
    "import matplotlib as plt\n",
    "from matplotlib import pyplot\n",
    "plt.pyplot.hist(df[\"horsepower\"], bins = 3)\n",
    "\n",
    "\n",
    "plt.pyplot.xlabel(\"Hourse Power\")\n",
    "plt.pyplot.ylabel(\"Count\")\n",
    "plt.pyplot.title(\"Total Horsepower Bins\")"
   ]
  },
  {
   "cell_type": "markdown",
   "id": "64043a1b",
   "metadata": {
    "id": "64043a1b"
   },
   "source": [
    "Regression analysis requires numerical variables. So, if you want to include any categorical variable in a regression model, supplementary steps are required to make the results interpretable.In these steps, the categorical variables are recoded into a set of separate binary variables. This recoding is called “dummy coding”. In python, We can use `get_dummies` to assign numerical values to different categorical data. Lets perform the dummy coding on fuel-type."
   ]
  },
  {
   "cell_type": "code",
   "execution_count": null,
   "id": "0e54e41a",
   "metadata": {
    "id": "0e54e41a"
   },
   "outputs": [],
   "source": [
    "dummy_fueltype = pd.get_dummies(df[\"fuel-type\"])"
   ]
  },
  {
   "cell_type": "markdown",
   "id": "2c1e1809",
   "metadata": {
    "id": "2c1e1809"
   },
   "source": [
    "If you want to give a meaning ful name to the dummy fuel type you can do it using the following code. We are skipping it for now. <br>\n",
    "`dummy_fueltype.rename(columns={'gas':'fuel-type-gas', 'diesel':'fuel-type-diesel'}, inplace=True)` <br>\n",
    "after calculating the dummy values, you need to concatinate the dummy variable with the existing data and drop the existing fuel-type parameter as well. "
   ]
  },
  {
   "cell_type": "code",
   "execution_count": null,
   "id": "fb2df2e0",
   "metadata": {
    "id": "fb2df2e0"
   },
   "outputs": [],
   "source": [
    "df = pd.concat([df, dummy_fueltype], axis=1)\n",
    "df.drop(\"fuel-type\", axis = 1, inplace=True)"
   ]
  },
  {
   "cell_type": "markdown",
   "id": "28c462b1",
   "metadata": {
    "id": "28c462b1"
   },
   "source": [
    "**Task** Create a dummy variable for \"aspiration\". Drop the existing column and append the new one with the existing list.\n"
   ]
  },
  {
   "cell_type": "code",
   "execution_count": null,
   "id": "5b6f1884",
   "metadata": {
    "id": "5b6f1884"
   },
   "outputs": [],
   "source": [
    "#Write your code here"
   ]
  },
  {
   "cell_type": "markdown",
   "id": "5605a2e4",
   "metadata": {
    "id": "5605a2e4"
   },
   "source": [
    "You can save the processed data now. After data-pre-processing we will move towards the Exploratory Data Analysis <br>\n",
    "## 3. Exploratory Data Analysis (EDA) \n",
    "EDA is used by data scientists to analyse and investigate data sets and summarise their main characteristics, often employing data visualisation methods. It helps determine how best to manipulate data sources to get the answers you need, making it easier for data scientists to discover patterns, spot anomalies, test a hypothesis, or check assumptions.\n",
    "\n",
    "You should define meaning research question before exploring the data. In this lab our main target is to find the most meaningful features for pridicting the car price."
   ]
  },
  {
   "cell_type": "markdown",
   "id": "6d93a789",
   "metadata": {
    "id": "6d93a789"
   },
   "source": [
    "The first thing to start is with exploring the datatypes of the data.There can be different type of data in any dataset. The type of data in the pandas dataframe could be float64, int64, datetime64 and object. You can check the datatype of data using `df.dtypes`. "
   ]
  },
  {
   "cell_type": "code",
   "execution_count": null,
   "id": "4bf18529",
   "metadata": {
    "id": "4bf18529",
    "outputId": "40b9c904-d02c-4cd6-9972-a436f232f554"
   },
   "outputs": [
    {
     "data": {
      "text/plain": [
       "symboling               int64\n",
       "normalized-losses      object\n",
       "make                   object\n",
       "num-of-doors           object\n",
       "body-style             object\n",
       "drive-wheels           object\n",
       "engine-location        object\n",
       "wheel-base            float64\n",
       "length                float64\n",
       "width                 float64\n",
       "height                float64\n",
       "curb-weight             int64\n",
       "engine-type            object\n",
       "num-of-cylinders       object\n",
       "engine-size             int64\n",
       "fuel-system            object\n",
       "bore                   object\n",
       "stroke                 object\n",
       "compression-ratio     float64\n",
       "horsepower              int32\n",
       "peak-rpm               object\n",
       "city-mpg                int64\n",
       "highway-mpg             int64\n",
       "price                  object\n",
       "horsepower-binned    category\n",
       "diesel                  uint8\n",
       "gas                     uint8\n",
       "std                     uint8\n",
       "turbo                   uint8\n",
       "dtype: object"
      ]
     },
     "execution_count": 24,
     "metadata": {},
     "output_type": "execute_result"
    }
   ],
   "source": [
    "df.dtypes"
   ]
  },
  {
   "cell_type": "markdown",
   "id": "6ee58cb1",
   "metadata": {
    "id": "6ee58cb1"
   },
   "source": [
    "If you check the values in the csv sheet you will observe that some of the datatype doesnot match with the data stored in the file. We need to change the datatype of these columns. To change the datatype you can use `.astype()` funtion. Contining to the observation of datatype, <br>\n",
    "'bore' and 'stroke' variables are numerical values therefore the datatype should be float,where as you can see in the above output that their datatype is object. Therefore, we will change their datatype. "
   ]
  },
  {
   "cell_type": "code",
   "execution_count": null,
   "id": "2effa6dc",
   "metadata": {
    "id": "2effa6dc"
   },
   "outputs": [],
   "source": [
    "df[[\"bore\", \"stroke\"]] = df[[\"bore\", \"stroke\"]].astype(\"float\")"
   ]
  },
  {
   "cell_type": "markdown",
   "id": "bf76a1b8",
   "metadata": {
    "id": "bf76a1b8"
   },
   "source": [
    "**Task**: Explore the data and find the columns with mismatched datatype and convert them to their appropriate datatype.<br> \n",
    "**Hint** Mismatched datatype columns:normalized-losses,price,peak-rpm"
   ]
  },
  {
   "cell_type": "code",
   "execution_count": null,
   "id": "d719afae",
   "metadata": {
    "id": "d719afae"
   },
   "outputs": [],
   "source": [
    "df[[\"normalized-losses\"]] = df[[\"normalized-losses\"]].astype(\"int\")\n",
    "df[[\"price\"]] = df[[\"price\"]].astype(\"float\")\n",
    "df[[\"peak-rpm\"]] = df[[\"peak-rpm\"]].astype(\"float\")"
   ]
  },
  {
   "cell_type": "markdown",
   "id": "b76de334",
   "metadata": {
    "id": "b76de334"
   },
   "source": [
    "Now check th datatypes again to verify that the datatype of each column is correct. "
   ]
  },
  {
   "cell_type": "code",
   "execution_count": null,
   "id": "dad4a64d",
   "metadata": {
    "id": "dad4a64d",
    "outputId": "9f603bf4-c5bc-4b64-f812-f10108cca753"
   },
   "outputs": [
    {
     "data": {
      "text/plain": [
       "symboling               int64\n",
       "normalized-losses       int32\n",
       "make                   object\n",
       "num-of-doors           object\n",
       "body-style             object\n",
       "drive-wheels           object\n",
       "engine-location        object\n",
       "wheel-base            float64\n",
       "length                float64\n",
       "width                 float64\n",
       "height                float64\n",
       "curb-weight             int64\n",
       "engine-type            object\n",
       "num-of-cylinders       object\n",
       "engine-size             int64\n",
       "fuel-system            object\n",
       "bore                  float64\n",
       "stroke                float64\n",
       "compression-ratio     float64\n",
       "horsepower              int32\n",
       "peak-rpm              float64\n",
       "city-mpg                int64\n",
       "highway-mpg             int64\n",
       "price                 float64\n",
       "horsepower-binned    category\n",
       "diesel                  uint8\n",
       "gas                     uint8\n",
       "std                     uint8\n",
       "turbo                   uint8\n",
       "dtype: object"
      ]
     },
     "execution_count": 27,
     "metadata": {},
     "output_type": "execute_result"
    }
   ],
   "source": [
    "df.dtypes"
   ]
  },
  {
   "cell_type": "markdown",
   "id": "6f956c89",
   "metadata": {
    "id": "6f956c89"
   },
   "source": [
    "There are some other methods as well to get some information about the dataset such as `df.info()`."
   ]
  },
  {
   "cell_type": "code",
   "execution_count": null,
   "id": "30fc6f2f",
   "metadata": {
    "id": "30fc6f2f",
    "outputId": "b18a2be2-b88a-47ee-ca2a-0749bf5692f7"
   },
   "outputs": [
    {
     "name": "stdout",
     "output_type": "stream",
     "text": [
      "<class 'pandas.core.frame.DataFrame'>\n",
      "RangeIndex: 201 entries, 0 to 200\n",
      "Data columns (total 29 columns):\n",
      " #   Column             Non-Null Count  Dtype   \n",
      "---  ------             --------------  -----   \n",
      " 0   symboling          201 non-null    int64   \n",
      " 1   normalized-losses  201 non-null    int32   \n",
      " 2   make               201 non-null    object  \n",
      " 3   num-of-doors       201 non-null    object  \n",
      " 4   body-style         201 non-null    object  \n",
      " 5   drive-wheels       201 non-null    object  \n",
      " 6   engine-location    201 non-null    object  \n",
      " 7   wheel-base         201 non-null    float64 \n",
      " 8   length             201 non-null    float64 \n",
      " 9   width              201 non-null    float64 \n",
      " 10  height             201 non-null    float64 \n",
      " 11  curb-weight        201 non-null    int64   \n",
      " 12  engine-type        201 non-null    object  \n",
      " 13  num-of-cylinders   201 non-null    object  \n",
      " 14  engine-size        201 non-null    int64   \n",
      " 15  fuel-system        201 non-null    object  \n",
      " 16  bore               201 non-null    float64 \n",
      " 17  stroke             201 non-null    float64 \n",
      " 18  compression-ratio  201 non-null    float64 \n",
      " 19  horsepower         201 non-null    int32   \n",
      " 20  peak-rpm           201 non-null    float64 \n",
      " 21  city-mpg           201 non-null    int64   \n",
      " 22  highway-mpg        201 non-null    int64   \n",
      " 23  price              201 non-null    float64 \n",
      " 24  horsepower-binned  201 non-null    category\n",
      " 25  diesel             201 non-null    uint8   \n",
      " 26  gas                201 non-null    uint8   \n",
      " 27  std                201 non-null    uint8   \n",
      " 28  turbo              201 non-null    uint8   \n",
      "dtypes: category(1), float64(9), int32(2), int64(5), object(8), uint8(4)\n",
      "memory usage: 37.4+ KB\n"
     ]
    }
   ],
   "source": [
    "df.info()"
   ]
  },
  {
   "cell_type": "markdown",
   "id": "55c0f7f1",
   "metadata": {
    "id": "55c0f7f1"
   },
   "source": [
    "## Correlation \n",
    "Correlation analysis measures the statistical relationship between two different variables. The result will show how the change in one parameter would impact the other parameter. <br>  It can be described as positive,negative or no correlation. <br>![corelation.png](attachment:corelation.png)\n",
    "There is a positive correlation when one variable increases as the other variable increases.<br>\n",
    "There is a negative correlation when one variable increases as the other variable decreases.<br>\n",
    "**Pearson Correlation**\n",
    "The Pearson Correlation measures the linear dependence between two variables X and Y.<br> Pearson correlation gives you two values <br>\n",
    "1. Correlation coefficient \n",
    "2. p value\n",
    "**1. Correlation coefficient** <br>\n",
    "The resulting Correlation coefficient is a value between -1 and 1 inclusive, where:<br><br>\n",
    "1: Perfect positive linear correlation.<br>\n",
    "0: No linear correlation, the two variables most likely do not affect each other.<br>\n",
    "-1: Perfect negative linear correlation.<br>\n",
    "We can calculate the Correlation of the 'int64' or 'float64' variables.In Python, corelation could be find by using `corr()`. "
   ]
  },
  {
   "cell_type": "code",
   "execution_count": null,
   "id": "0072dd49",
   "metadata": {
    "id": "0072dd49",
    "outputId": "514dba19-9db4-40f6-f8ba-2de4a38e19fa"
   },
   "outputs": [
    {
     "data": {
      "text/html": [
       "<div>\n",
       "<style scoped>\n",
       "    .dataframe tbody tr th:only-of-type {\n",
       "        vertical-align: middle;\n",
       "    }\n",
       "\n",
       "    .dataframe tbody tr th {\n",
       "        vertical-align: top;\n",
       "    }\n",
       "\n",
       "    .dataframe thead th {\n",
       "        text-align: right;\n",
       "    }\n",
       "</style>\n",
       "<table border=\"1\" class=\"dataframe\">\n",
       "  <thead>\n",
       "    <tr style=\"text-align: right;\">\n",
       "      <th></th>\n",
       "      <th>symboling</th>\n",
       "      <th>normalized-losses</th>\n",
       "      <th>wheel-base</th>\n",
       "      <th>length</th>\n",
       "      <th>width</th>\n",
       "      <th>height</th>\n",
       "      <th>curb-weight</th>\n",
       "      <th>engine-size</th>\n",
       "      <th>bore</th>\n",
       "      <th>stroke</th>\n",
       "      <th>compression-ratio</th>\n",
       "      <th>horsepower</th>\n",
       "      <th>peak-rpm</th>\n",
       "      <th>city-mpg</th>\n",
       "      <th>highway-mpg</th>\n",
       "      <th>price</th>\n",
       "      <th>diesel</th>\n",
       "      <th>gas</th>\n",
       "      <th>std</th>\n",
       "      <th>turbo</th>\n",
       "    </tr>\n",
       "  </thead>\n",
       "  <tbody>\n",
       "    <tr>\n",
       "      <th>symboling</th>\n",
       "      <td>1.000000</td>\n",
       "      <td>0.466264</td>\n",
       "      <td>-0.535987</td>\n",
       "      <td>-0.365404</td>\n",
       "      <td>-0.242423</td>\n",
       "      <td>-0.550160</td>\n",
       "      <td>-0.233118</td>\n",
       "      <td>-0.110581</td>\n",
       "      <td>-0.140019</td>\n",
       "      <td>-0.008153</td>\n",
       "      <td>-0.182196</td>\n",
       "      <td>0.075810</td>\n",
       "      <td>0.279740</td>\n",
       "      <td>-0.035527</td>\n",
       "      <td>0.036233</td>\n",
       "      <td>-0.082391</td>\n",
       "      <td>-0.196735</td>\n",
       "      <td>0.196735</td>\n",
       "      <td>0.054615</td>\n",
       "      <td>-0.054615</td>\n",
       "    </tr>\n",
       "    <tr>\n",
       "      <th>normalized-losses</th>\n",
       "      <td>0.466264</td>\n",
       "      <td>1.000000</td>\n",
       "      <td>-0.056661</td>\n",
       "      <td>0.019424</td>\n",
       "      <td>0.086802</td>\n",
       "      <td>-0.373737</td>\n",
       "      <td>0.099404</td>\n",
       "      <td>0.112360</td>\n",
       "      <td>-0.029862</td>\n",
       "      <td>0.055045</td>\n",
       "      <td>-0.114713</td>\n",
       "      <td>0.217300</td>\n",
       "      <td>0.239543</td>\n",
       "      <td>-0.225016</td>\n",
       "      <td>-0.181877</td>\n",
       "      <td>0.133999</td>\n",
       "      <td>-0.101546</td>\n",
       "      <td>0.101546</td>\n",
       "      <td>0.006911</td>\n",
       "      <td>-0.006911</td>\n",
       "    </tr>\n",
       "    <tr>\n",
       "      <th>wheel-base</th>\n",
       "      <td>-0.535987</td>\n",
       "      <td>-0.056661</td>\n",
       "      <td>1.000000</td>\n",
       "      <td>0.876024</td>\n",
       "      <td>0.814507</td>\n",
       "      <td>0.590742</td>\n",
       "      <td>0.782097</td>\n",
       "      <td>0.572027</td>\n",
       "      <td>0.493244</td>\n",
       "      <td>0.158018</td>\n",
       "      <td>0.250313</td>\n",
       "      <td>0.371178</td>\n",
       "      <td>-0.360305</td>\n",
       "      <td>-0.470606</td>\n",
       "      <td>-0.543304</td>\n",
       "      <td>0.584642</td>\n",
       "      <td>0.307237</td>\n",
       "      <td>-0.307237</td>\n",
       "      <td>-0.256889</td>\n",
       "      <td>0.256889</td>\n",
       "    </tr>\n",
       "    <tr>\n",
       "      <th>length</th>\n",
       "      <td>-0.365404</td>\n",
       "      <td>0.019424</td>\n",
       "      <td>0.876024</td>\n",
       "      <td>1.000000</td>\n",
       "      <td>0.857170</td>\n",
       "      <td>0.492063</td>\n",
       "      <td>0.880665</td>\n",
       "      <td>0.685025</td>\n",
       "      <td>0.608971</td>\n",
       "      <td>0.123952</td>\n",
       "      <td>0.159733</td>\n",
       "      <td>0.579795</td>\n",
       "      <td>-0.285970</td>\n",
       "      <td>-0.665192</td>\n",
       "      <td>-0.698142</td>\n",
       "      <td>0.690628</td>\n",
       "      <td>0.211187</td>\n",
       "      <td>-0.211187</td>\n",
       "      <td>-0.230085</td>\n",
       "      <td>0.230085</td>\n",
       "    </tr>\n",
       "    <tr>\n",
       "      <th>width</th>\n",
       "      <td>-0.242423</td>\n",
       "      <td>0.086802</td>\n",
       "      <td>0.814507</td>\n",
       "      <td>0.857170</td>\n",
       "      <td>1.000000</td>\n",
       "      <td>0.306002</td>\n",
       "      <td>0.866201</td>\n",
       "      <td>0.729436</td>\n",
       "      <td>0.544885</td>\n",
       "      <td>0.188822</td>\n",
       "      <td>0.189867</td>\n",
       "      <td>0.615056</td>\n",
       "      <td>-0.245800</td>\n",
       "      <td>-0.633531</td>\n",
       "      <td>-0.680635</td>\n",
       "      <td>0.751265</td>\n",
       "      <td>0.244356</td>\n",
       "      <td>-0.244356</td>\n",
       "      <td>-0.305732</td>\n",
       "      <td>0.305732</td>\n",
       "    </tr>\n",
       "    <tr>\n",
       "      <th>height</th>\n",
       "      <td>-0.550160</td>\n",
       "      <td>-0.373737</td>\n",
       "      <td>0.590742</td>\n",
       "      <td>0.492063</td>\n",
       "      <td>0.306002</td>\n",
       "      <td>1.000000</td>\n",
       "      <td>0.307581</td>\n",
       "      <td>0.074694</td>\n",
       "      <td>0.180449</td>\n",
       "      <td>-0.060663</td>\n",
       "      <td>0.259737</td>\n",
       "      <td>-0.087001</td>\n",
       "      <td>-0.309974</td>\n",
       "      <td>-0.049800</td>\n",
       "      <td>-0.104812</td>\n",
       "      <td>0.135486</td>\n",
       "      <td>0.281578</td>\n",
       "      <td>-0.281578</td>\n",
       "      <td>-0.090336</td>\n",
       "      <td>0.090336</td>\n",
       "    </tr>\n",
       "    <tr>\n",
       "      <th>curb-weight</th>\n",
       "      <td>-0.233118</td>\n",
       "      <td>0.099404</td>\n",
       "      <td>0.782097</td>\n",
       "      <td>0.880665</td>\n",
       "      <td>0.866201</td>\n",
       "      <td>0.307581</td>\n",
       "      <td>1.000000</td>\n",
       "      <td>0.849072</td>\n",
       "      <td>0.644060</td>\n",
       "      <td>0.167438</td>\n",
       "      <td>0.156433</td>\n",
       "      <td>0.757981</td>\n",
       "      <td>-0.279361</td>\n",
       "      <td>-0.749543</td>\n",
       "      <td>-0.794889</td>\n",
       "      <td>0.834415</td>\n",
       "      <td>0.221046</td>\n",
       "      <td>-0.221046</td>\n",
       "      <td>-0.321955</td>\n",
       "      <td>0.321955</td>\n",
       "    </tr>\n",
       "    <tr>\n",
       "      <th>engine-size</th>\n",
       "      <td>-0.110581</td>\n",
       "      <td>0.112360</td>\n",
       "      <td>0.572027</td>\n",
       "      <td>0.685025</td>\n",
       "      <td>0.729436</td>\n",
       "      <td>0.074694</td>\n",
       "      <td>0.849072</td>\n",
       "      <td>1.000000</td>\n",
       "      <td>0.572609</td>\n",
       "      <td>0.205928</td>\n",
       "      <td>0.028889</td>\n",
       "      <td>0.822668</td>\n",
       "      <td>-0.256733</td>\n",
       "      <td>-0.650546</td>\n",
       "      <td>-0.679571</td>\n",
       "      <td>0.872335</td>\n",
       "      <td>0.070779</td>\n",
       "      <td>-0.070779</td>\n",
       "      <td>-0.110040</td>\n",
       "      <td>0.110040</td>\n",
       "    </tr>\n",
       "    <tr>\n",
       "      <th>bore</th>\n",
       "      <td>-0.140019</td>\n",
       "      <td>-0.029862</td>\n",
       "      <td>0.493244</td>\n",
       "      <td>0.608971</td>\n",
       "      <td>0.544885</td>\n",
       "      <td>0.180449</td>\n",
       "      <td>0.644060</td>\n",
       "      <td>0.572609</td>\n",
       "      <td>1.000000</td>\n",
       "      <td>-0.055390</td>\n",
       "      <td>0.001263</td>\n",
       "      <td>0.566903</td>\n",
       "      <td>-0.267392</td>\n",
       "      <td>-0.582027</td>\n",
       "      <td>-0.591309</td>\n",
       "      <td>0.543155</td>\n",
       "      <td>0.054458</td>\n",
       "      <td>-0.054458</td>\n",
       "      <td>-0.227816</td>\n",
       "      <td>0.227816</td>\n",
       "    </tr>\n",
       "    <tr>\n",
       "      <th>stroke</th>\n",
       "      <td>-0.008153</td>\n",
       "      <td>0.055045</td>\n",
       "      <td>0.158018</td>\n",
       "      <td>0.123952</td>\n",
       "      <td>0.188822</td>\n",
       "      <td>-0.060663</td>\n",
       "      <td>0.167438</td>\n",
       "      <td>0.205928</td>\n",
       "      <td>-0.055390</td>\n",
       "      <td>1.000000</td>\n",
       "      <td>0.187871</td>\n",
       "      <td>0.098128</td>\n",
       "      <td>-0.063561</td>\n",
       "      <td>-0.033956</td>\n",
       "      <td>-0.034636</td>\n",
       "      <td>0.082269</td>\n",
       "      <td>0.241064</td>\n",
       "      <td>-0.241064</td>\n",
       "      <td>-0.218233</td>\n",
       "      <td>0.218233</td>\n",
       "    </tr>\n",
       "    <tr>\n",
       "      <th>compression-ratio</th>\n",
       "      <td>-0.182196</td>\n",
       "      <td>-0.114713</td>\n",
       "      <td>0.250313</td>\n",
       "      <td>0.159733</td>\n",
       "      <td>0.189867</td>\n",
       "      <td>0.259737</td>\n",
       "      <td>0.156433</td>\n",
       "      <td>0.028889</td>\n",
       "      <td>0.001263</td>\n",
       "      <td>0.187871</td>\n",
       "      <td>1.000000</td>\n",
       "      <td>-0.214489</td>\n",
       "      <td>-0.435780</td>\n",
       "      <td>0.331425</td>\n",
       "      <td>0.268465</td>\n",
       "      <td>0.071107</td>\n",
       "      <td>0.985231</td>\n",
       "      <td>-0.985231</td>\n",
       "      <td>-0.307522</td>\n",
       "      <td>0.307522</td>\n",
       "    </tr>\n",
       "    <tr>\n",
       "      <th>horsepower</th>\n",
       "      <td>0.075810</td>\n",
       "      <td>0.217300</td>\n",
       "      <td>0.371178</td>\n",
       "      <td>0.579795</td>\n",
       "      <td>0.615056</td>\n",
       "      <td>-0.087001</td>\n",
       "      <td>0.757981</td>\n",
       "      <td>0.822668</td>\n",
       "      <td>0.566903</td>\n",
       "      <td>0.098128</td>\n",
       "      <td>-0.214489</td>\n",
       "      <td>1.000000</td>\n",
       "      <td>0.107884</td>\n",
       "      <td>-0.822192</td>\n",
       "      <td>-0.804579</td>\n",
       "      <td>0.809607</td>\n",
       "      <td>-0.169030</td>\n",
       "      <td>0.169030</td>\n",
       "      <td>-0.251159</td>\n",
       "      <td>0.251159</td>\n",
       "    </tr>\n",
       "    <tr>\n",
       "      <th>peak-rpm</th>\n",
       "      <td>0.279740</td>\n",
       "      <td>0.239543</td>\n",
       "      <td>-0.360305</td>\n",
       "      <td>-0.285970</td>\n",
       "      <td>-0.245800</td>\n",
       "      <td>-0.309974</td>\n",
       "      <td>-0.279361</td>\n",
       "      <td>-0.256733</td>\n",
       "      <td>-0.267392</td>\n",
       "      <td>-0.063561</td>\n",
       "      <td>-0.435780</td>\n",
       "      <td>0.107884</td>\n",
       "      <td>1.000000</td>\n",
       "      <td>-0.115413</td>\n",
       "      <td>-0.058598</td>\n",
       "      <td>-0.101616</td>\n",
       "      <td>-0.475812</td>\n",
       "      <td>0.475812</td>\n",
       "      <td>0.190057</td>\n",
       "      <td>-0.190057</td>\n",
       "    </tr>\n",
       "    <tr>\n",
       "      <th>city-mpg</th>\n",
       "      <td>-0.035527</td>\n",
       "      <td>-0.225016</td>\n",
       "      <td>-0.470606</td>\n",
       "      <td>-0.665192</td>\n",
       "      <td>-0.633531</td>\n",
       "      <td>-0.049800</td>\n",
       "      <td>-0.749543</td>\n",
       "      <td>-0.650546</td>\n",
       "      <td>-0.582027</td>\n",
       "      <td>-0.033956</td>\n",
       "      <td>0.331425</td>\n",
       "      <td>-0.822192</td>\n",
       "      <td>-0.115413</td>\n",
       "      <td>1.000000</td>\n",
       "      <td>0.972044</td>\n",
       "      <td>-0.686571</td>\n",
       "      <td>0.265676</td>\n",
       "      <td>-0.265676</td>\n",
       "      <td>0.189237</td>\n",
       "      <td>-0.189237</td>\n",
       "    </tr>\n",
       "    <tr>\n",
       "      <th>highway-mpg</th>\n",
       "      <td>0.036233</td>\n",
       "      <td>-0.181877</td>\n",
       "      <td>-0.543304</td>\n",
       "      <td>-0.698142</td>\n",
       "      <td>-0.680635</td>\n",
       "      <td>-0.104812</td>\n",
       "      <td>-0.794889</td>\n",
       "      <td>-0.679571</td>\n",
       "      <td>-0.591309</td>\n",
       "      <td>-0.034636</td>\n",
       "      <td>0.268465</td>\n",
       "      <td>-0.804579</td>\n",
       "      <td>-0.058598</td>\n",
       "      <td>0.972044</td>\n",
       "      <td>1.000000</td>\n",
       "      <td>-0.704692</td>\n",
       "      <td>0.198690</td>\n",
       "      <td>-0.198690</td>\n",
       "      <td>0.241851</td>\n",
       "      <td>-0.241851</td>\n",
       "    </tr>\n",
       "    <tr>\n",
       "      <th>price</th>\n",
       "      <td>-0.082391</td>\n",
       "      <td>0.133999</td>\n",
       "      <td>0.584642</td>\n",
       "      <td>0.690628</td>\n",
       "      <td>0.751265</td>\n",
       "      <td>0.135486</td>\n",
       "      <td>0.834415</td>\n",
       "      <td>0.872335</td>\n",
       "      <td>0.543155</td>\n",
       "      <td>0.082269</td>\n",
       "      <td>0.071107</td>\n",
       "      <td>0.809607</td>\n",
       "      <td>-0.101616</td>\n",
       "      <td>-0.686571</td>\n",
       "      <td>-0.704692</td>\n",
       "      <td>1.000000</td>\n",
       "      <td>0.110326</td>\n",
       "      <td>-0.110326</td>\n",
       "      <td>-0.179578</td>\n",
       "      <td>0.179578</td>\n",
       "    </tr>\n",
       "    <tr>\n",
       "      <th>diesel</th>\n",
       "      <td>-0.196735</td>\n",
       "      <td>-0.101546</td>\n",
       "      <td>0.307237</td>\n",
       "      <td>0.211187</td>\n",
       "      <td>0.244356</td>\n",
       "      <td>0.281578</td>\n",
       "      <td>0.221046</td>\n",
       "      <td>0.070779</td>\n",
       "      <td>0.054458</td>\n",
       "      <td>0.241064</td>\n",
       "      <td>0.985231</td>\n",
       "      <td>-0.169030</td>\n",
       "      <td>-0.475812</td>\n",
       "      <td>0.265676</td>\n",
       "      <td>0.198690</td>\n",
       "      <td>0.110326</td>\n",
       "      <td>1.000000</td>\n",
       "      <td>-1.000000</td>\n",
       "      <td>-0.408228</td>\n",
       "      <td>0.408228</td>\n",
       "    </tr>\n",
       "    <tr>\n",
       "      <th>gas</th>\n",
       "      <td>0.196735</td>\n",
       "      <td>0.101546</td>\n",
       "      <td>-0.307237</td>\n",
       "      <td>-0.211187</td>\n",
       "      <td>-0.244356</td>\n",
       "      <td>-0.281578</td>\n",
       "      <td>-0.221046</td>\n",
       "      <td>-0.070779</td>\n",
       "      <td>-0.054458</td>\n",
       "      <td>-0.241064</td>\n",
       "      <td>-0.985231</td>\n",
       "      <td>0.169030</td>\n",
       "      <td>0.475812</td>\n",
       "      <td>-0.265676</td>\n",
       "      <td>-0.198690</td>\n",
       "      <td>-0.110326</td>\n",
       "      <td>-1.000000</td>\n",
       "      <td>1.000000</td>\n",
       "      <td>0.408228</td>\n",
       "      <td>-0.408228</td>\n",
       "    </tr>\n",
       "    <tr>\n",
       "      <th>std</th>\n",
       "      <td>0.054615</td>\n",
       "      <td>0.006911</td>\n",
       "      <td>-0.256889</td>\n",
       "      <td>-0.230085</td>\n",
       "      <td>-0.305732</td>\n",
       "      <td>-0.090336</td>\n",
       "      <td>-0.321955</td>\n",
       "      <td>-0.110040</td>\n",
       "      <td>-0.227816</td>\n",
       "      <td>-0.218233</td>\n",
       "      <td>-0.307522</td>\n",
       "      <td>-0.251159</td>\n",
       "      <td>0.190057</td>\n",
       "      <td>0.189237</td>\n",
       "      <td>0.241851</td>\n",
       "      <td>-0.179578</td>\n",
       "      <td>-0.408228</td>\n",
       "      <td>0.408228</td>\n",
       "      <td>1.000000</td>\n",
       "      <td>-1.000000</td>\n",
       "    </tr>\n",
       "    <tr>\n",
       "      <th>turbo</th>\n",
       "      <td>-0.054615</td>\n",
       "      <td>-0.006911</td>\n",
       "      <td>0.256889</td>\n",
       "      <td>0.230085</td>\n",
       "      <td>0.305732</td>\n",
       "      <td>0.090336</td>\n",
       "      <td>0.321955</td>\n",
       "      <td>0.110040</td>\n",
       "      <td>0.227816</td>\n",
       "      <td>0.218233</td>\n",
       "      <td>0.307522</td>\n",
       "      <td>0.251159</td>\n",
       "      <td>-0.190057</td>\n",
       "      <td>-0.189237</td>\n",
       "      <td>-0.241851</td>\n",
       "      <td>0.179578</td>\n",
       "      <td>0.408228</td>\n",
       "      <td>-0.408228</td>\n",
       "      <td>-1.000000</td>\n",
       "      <td>1.000000</td>\n",
       "    </tr>\n",
       "  </tbody>\n",
       "</table>\n",
       "</div>"
      ],
      "text/plain": [
       "                   symboling  normalized-losses  wheel-base    length  \\\n",
       "symboling           1.000000           0.466264   -0.535987 -0.365404   \n",
       "normalized-losses   0.466264           1.000000   -0.056661  0.019424   \n",
       "wheel-base         -0.535987          -0.056661    1.000000  0.876024   \n",
       "length             -0.365404           0.019424    0.876024  1.000000   \n",
       "width              -0.242423           0.086802    0.814507  0.857170   \n",
       "height             -0.550160          -0.373737    0.590742  0.492063   \n",
       "curb-weight        -0.233118           0.099404    0.782097  0.880665   \n",
       "engine-size        -0.110581           0.112360    0.572027  0.685025   \n",
       "bore               -0.140019          -0.029862    0.493244  0.608971   \n",
       "stroke             -0.008153           0.055045    0.158018  0.123952   \n",
       "compression-ratio  -0.182196          -0.114713    0.250313  0.159733   \n",
       "horsepower          0.075810           0.217300    0.371178  0.579795   \n",
       "peak-rpm            0.279740           0.239543   -0.360305 -0.285970   \n",
       "city-mpg           -0.035527          -0.225016   -0.470606 -0.665192   \n",
       "highway-mpg         0.036233          -0.181877   -0.543304 -0.698142   \n",
       "price              -0.082391           0.133999    0.584642  0.690628   \n",
       "diesel             -0.196735          -0.101546    0.307237  0.211187   \n",
       "gas                 0.196735           0.101546   -0.307237 -0.211187   \n",
       "std                 0.054615           0.006911   -0.256889 -0.230085   \n",
       "turbo              -0.054615          -0.006911    0.256889  0.230085   \n",
       "\n",
       "                      width    height  curb-weight  engine-size      bore  \\\n",
       "symboling         -0.242423 -0.550160    -0.233118    -0.110581 -0.140019   \n",
       "normalized-losses  0.086802 -0.373737     0.099404     0.112360 -0.029862   \n",
       "wheel-base         0.814507  0.590742     0.782097     0.572027  0.493244   \n",
       "length             0.857170  0.492063     0.880665     0.685025  0.608971   \n",
       "width              1.000000  0.306002     0.866201     0.729436  0.544885   \n",
       "height             0.306002  1.000000     0.307581     0.074694  0.180449   \n",
       "curb-weight        0.866201  0.307581     1.000000     0.849072  0.644060   \n",
       "engine-size        0.729436  0.074694     0.849072     1.000000  0.572609   \n",
       "bore               0.544885  0.180449     0.644060     0.572609  1.000000   \n",
       "stroke             0.188822 -0.060663     0.167438     0.205928 -0.055390   \n",
       "compression-ratio  0.189867  0.259737     0.156433     0.028889  0.001263   \n",
       "horsepower         0.615056 -0.087001     0.757981     0.822668  0.566903   \n",
       "peak-rpm          -0.245800 -0.309974    -0.279361    -0.256733 -0.267392   \n",
       "city-mpg          -0.633531 -0.049800    -0.749543    -0.650546 -0.582027   \n",
       "highway-mpg       -0.680635 -0.104812    -0.794889    -0.679571 -0.591309   \n",
       "price              0.751265  0.135486     0.834415     0.872335  0.543155   \n",
       "diesel             0.244356  0.281578     0.221046     0.070779  0.054458   \n",
       "gas               -0.244356 -0.281578    -0.221046    -0.070779 -0.054458   \n",
       "std               -0.305732 -0.090336    -0.321955    -0.110040 -0.227816   \n",
       "turbo              0.305732  0.090336     0.321955     0.110040  0.227816   \n",
       "\n",
       "                     stroke  compression-ratio  horsepower  peak-rpm  \\\n",
       "symboling         -0.008153          -0.182196    0.075810  0.279740   \n",
       "normalized-losses  0.055045          -0.114713    0.217300  0.239543   \n",
       "wheel-base         0.158018           0.250313    0.371178 -0.360305   \n",
       "length             0.123952           0.159733    0.579795 -0.285970   \n",
       "width              0.188822           0.189867    0.615056 -0.245800   \n",
       "height            -0.060663           0.259737   -0.087001 -0.309974   \n",
       "curb-weight        0.167438           0.156433    0.757981 -0.279361   \n",
       "engine-size        0.205928           0.028889    0.822668 -0.256733   \n",
       "bore              -0.055390           0.001263    0.566903 -0.267392   \n",
       "stroke             1.000000           0.187871    0.098128 -0.063561   \n",
       "compression-ratio  0.187871           1.000000   -0.214489 -0.435780   \n",
       "horsepower         0.098128          -0.214489    1.000000  0.107884   \n",
       "peak-rpm          -0.063561          -0.435780    0.107884  1.000000   \n",
       "city-mpg          -0.033956           0.331425   -0.822192 -0.115413   \n",
       "highway-mpg       -0.034636           0.268465   -0.804579 -0.058598   \n",
       "price              0.082269           0.071107    0.809607 -0.101616   \n",
       "diesel             0.241064           0.985231   -0.169030 -0.475812   \n",
       "gas               -0.241064          -0.985231    0.169030  0.475812   \n",
       "std               -0.218233          -0.307522   -0.251159  0.190057   \n",
       "turbo              0.218233           0.307522    0.251159 -0.190057   \n",
       "\n",
       "                   city-mpg  highway-mpg     price    diesel       gas  \\\n",
       "symboling         -0.035527     0.036233 -0.082391 -0.196735  0.196735   \n",
       "normalized-losses -0.225016    -0.181877  0.133999 -0.101546  0.101546   \n",
       "wheel-base        -0.470606    -0.543304  0.584642  0.307237 -0.307237   \n",
       "length            -0.665192    -0.698142  0.690628  0.211187 -0.211187   \n",
       "width             -0.633531    -0.680635  0.751265  0.244356 -0.244356   \n",
       "height            -0.049800    -0.104812  0.135486  0.281578 -0.281578   \n",
       "curb-weight       -0.749543    -0.794889  0.834415  0.221046 -0.221046   \n",
       "engine-size       -0.650546    -0.679571  0.872335  0.070779 -0.070779   \n",
       "bore              -0.582027    -0.591309  0.543155  0.054458 -0.054458   \n",
       "stroke            -0.033956    -0.034636  0.082269  0.241064 -0.241064   \n",
       "compression-ratio  0.331425     0.268465  0.071107  0.985231 -0.985231   \n",
       "horsepower        -0.822192    -0.804579  0.809607 -0.169030  0.169030   \n",
       "peak-rpm          -0.115413    -0.058598 -0.101616 -0.475812  0.475812   \n",
       "city-mpg           1.000000     0.972044 -0.686571  0.265676 -0.265676   \n",
       "highway-mpg        0.972044     1.000000 -0.704692  0.198690 -0.198690   \n",
       "price             -0.686571    -0.704692  1.000000  0.110326 -0.110326   \n",
       "diesel             0.265676     0.198690  0.110326  1.000000 -1.000000   \n",
       "gas               -0.265676    -0.198690 -0.110326 -1.000000  1.000000   \n",
       "std                0.189237     0.241851 -0.179578 -0.408228  0.408228   \n",
       "turbo             -0.189237    -0.241851  0.179578  0.408228 -0.408228   \n",
       "\n",
       "                        std     turbo  \n",
       "symboling          0.054615 -0.054615  \n",
       "normalized-losses  0.006911 -0.006911  \n",
       "wheel-base        -0.256889  0.256889  \n",
       "length            -0.230085  0.230085  \n",
       "width             -0.305732  0.305732  \n",
       "height            -0.090336  0.090336  \n",
       "curb-weight       -0.321955  0.321955  \n",
       "engine-size       -0.110040  0.110040  \n",
       "bore              -0.227816  0.227816  \n",
       "stroke            -0.218233  0.218233  \n",
       "compression-ratio -0.307522  0.307522  \n",
       "horsepower        -0.251159  0.251159  \n",
       "peak-rpm           0.190057 -0.190057  \n",
       "city-mpg           0.189237 -0.189237  \n",
       "highway-mpg        0.241851 -0.241851  \n",
       "price             -0.179578  0.179578  \n",
       "diesel            -0.408228  0.408228  \n",
       "gas                0.408228 -0.408228  \n",
       "std                1.000000 -1.000000  \n",
       "turbo             -1.000000  1.000000  "
      ]
     },
     "execution_count": 29,
     "metadata": {},
     "output_type": "execute_result"
    }
   ],
   "source": [
    "df.corr()"
   ]
  },
  {
   "cell_type": "markdown",
   "id": "e42bac61",
   "metadata": {
    "id": "e42bac61"
   },
   "source": [
    "If you want to find correlation between a set of columns, you can use the following sytax `df[['column1','column1','column1']].corr()` <br>\n",
    "**Task** Find the correlation between the following columns inthe dataset <br> bore, stroke, compression-ratio, and horsepower."
   ]
  },
  {
   "cell_type": "code",
   "execution_count": null,
   "id": "eeac2d82",
   "metadata": {
    "id": "eeac2d82",
    "outputId": "bcff9083-5bc3-4d06-d2fe-c430d174f696"
   },
   "outputs": [
    {
     "data": {
      "text/html": [
       "<div>\n",
       "<style scoped>\n",
       "    .dataframe tbody tr th:only-of-type {\n",
       "        vertical-align: middle;\n",
       "    }\n",
       "\n",
       "    .dataframe tbody tr th {\n",
       "        vertical-align: top;\n",
       "    }\n",
       "\n",
       "    .dataframe thead th {\n",
       "        text-align: right;\n",
       "    }\n",
       "</style>\n",
       "<table border=\"1\" class=\"dataframe\">\n",
       "  <thead>\n",
       "    <tr style=\"text-align: right;\">\n",
       "      <th></th>\n",
       "      <th>bore</th>\n",
       "      <th>stroke</th>\n",
       "      <th>compression-ratio</th>\n",
       "      <th>horsepower</th>\n",
       "    </tr>\n",
       "  </thead>\n",
       "  <tbody>\n",
       "    <tr>\n",
       "      <th>bore</th>\n",
       "      <td>1.000000</td>\n",
       "      <td>-0.055390</td>\n",
       "      <td>0.001263</td>\n",
       "      <td>0.566903</td>\n",
       "    </tr>\n",
       "    <tr>\n",
       "      <th>stroke</th>\n",
       "      <td>-0.055390</td>\n",
       "      <td>1.000000</td>\n",
       "      <td>0.187871</td>\n",
       "      <td>0.098128</td>\n",
       "    </tr>\n",
       "    <tr>\n",
       "      <th>compression-ratio</th>\n",
       "      <td>0.001263</td>\n",
       "      <td>0.187871</td>\n",
       "      <td>1.000000</td>\n",
       "      <td>-0.214489</td>\n",
       "    </tr>\n",
       "    <tr>\n",
       "      <th>horsepower</th>\n",
       "      <td>0.566903</td>\n",
       "      <td>0.098128</td>\n",
       "      <td>-0.214489</td>\n",
       "      <td>1.000000</td>\n",
       "    </tr>\n",
       "  </tbody>\n",
       "</table>\n",
       "</div>"
      ],
      "text/plain": [
       "                       bore    stroke  compression-ratio  horsepower\n",
       "bore               1.000000 -0.055390           0.001263    0.566903\n",
       "stroke            -0.055390  1.000000           0.187871    0.098128\n",
       "compression-ratio  0.001263  0.187871           1.000000   -0.214489\n",
       "horsepower         0.566903  0.098128          -0.214489    1.000000"
      ]
     },
     "execution_count": 30,
     "metadata": {},
     "output_type": "execute_result"
    }
   ],
   "source": [
    "#Write your code here"
   ]
  },
  {
   "cell_type": "markdown",
   "id": "e4459944",
   "metadata": {
    "id": "e4459944"
   },
   "source": [
    "## Regplot <br>\n",
    "As we are finding the suitable variables to predict the car price. In our dataset, price is the target variable. To understand (linear) relationship between an individual variable and the price, you can use \"regplot\".The regplot function generates a scatter plot with a regression line. lets plot the regplot of \"engine-size\" and \"price\". "
   ]
  },
  {
   "cell_type": "code",
   "execution_count": null,
   "id": "2c8b5f07",
   "metadata": {
    "id": "2c8b5f07",
    "outputId": "fcff0b1d-2e9b-46da-8da8-a8908a6c24f7"
   },
   "outputs": [
    {
     "data": {
      "text/plain": [
       "(0.0, 53479.72825684874)"
      ]
     },
     "execution_count": 31,
     "metadata": {},
     "output_type": "execute_result"
    },
    {
     "data": {
      "image/png": "[encoded data removed]",
      "text/plain": [
       "<Figure size 640x480 with 1 Axes>"
      ]
     },
     "metadata": {},
     "output_type": "display_data"
    }
   ],
   "source": [
    "import matplotlib.pyplot as plt\n",
    "import seaborn as sns\n",
    "%matplotlib inline \n",
    "sns.regplot(x=\"engine-size\", y=\"price\", data=df)\n",
    "plt.ylim(0,)"
   ]
  },
  {
   "cell_type": "markdown",
   "id": "f8e60c37",
   "metadata": {
    "id": "f8e60c37"
   },
   "source": [
    "From the regplot we can see that there is positive correlation between engine-size and pice i.e. if the value of engine-size goes up, the value of price will also go up. Lets calculate the correlation value among these two."
   ]
  },
  {
   "cell_type": "code",
   "execution_count": null,
   "id": "8ecc5462",
   "metadata": {
    "id": "8ecc5462",
    "outputId": "7be8f167-59f6-45b0-a31d-65af51dfc8ea"
   },
   "outputs": [
    {
     "data": {
      "text/html": [
       "<div>\n",
       "<style scoped>\n",
       "    .dataframe tbody tr th:only-of-type {\n",
       "        vertical-align: middle;\n",
       "    }\n",
       "\n",
       "    .dataframe tbody tr th {\n",
       "        vertical-align: top;\n",
       "    }\n",
       "\n",
       "    .dataframe thead th {\n",
       "        text-align: right;\n",
       "    }\n",
       "</style>\n",
       "<table border=\"1\" class=\"dataframe\">\n",
       "  <thead>\n",
       "    <tr style=\"text-align: right;\">\n",
       "      <th></th>\n",
       "      <th>engine-size</th>\n",
       "      <th>price</th>\n",
       "    </tr>\n",
       "  </thead>\n",
       "  <tbody>\n",
       "    <tr>\n",
       "      <th>engine-size</th>\n",
       "      <td>1.000000</td>\n",
       "      <td>0.872335</td>\n",
       "    </tr>\n",
       "    <tr>\n",
       "      <th>price</th>\n",
       "      <td>0.872335</td>\n",
       "      <td>1.000000</td>\n",
       "    </tr>\n",
       "  </tbody>\n",
       "</table>\n",
       "</div>"
      ],
      "text/plain": [
       "             engine-size     price\n",
       "engine-size     1.000000  0.872335\n",
       "price           0.872335  1.000000"
      ]
     },
     "execution_count": 32,
     "metadata": {},
     "output_type": "execute_result"
    }
   ],
   "source": [
    "df[[\"engine-size\", \"price\"]].corr()"
   ]
  },
  {
   "cell_type": "markdown",
   "id": "2c23ad04",
   "metadata": {
    "id": "2c23ad04"
   },
   "source": [
    "From the output we can see that correlation value is 0.87. which means that engine-size is a meaningful variable to predict the price. "
   ]
  },
  {
   "cell_type": "markdown",
   "id": "3f233a0b",
   "metadata": {
    "id": "3f233a0b"
   },
   "source": [
    "**Task** Display the regplot for highway-mpg and price.Also find the correlation value."
   ]
  },
  {
   "cell_type": "code",
   "execution_count": null,
   "id": "2759520b",
   "metadata": {
    "id": "2759520b",
    "outputId": "e7d3c956-615c-447b-885c-c48fa326dd63"
   },
   "outputs": [
    {
     "data": {
      "text/plain": [
       "<AxesSubplot:xlabel='highway-mpg', ylabel='price'>"
      ]
     },
     "execution_count": 33,
     "metadata": {},
     "output_type": "execute_result"
    },
    {
     "data": {
      "image/png": "[encoded data removed]",
      "text/plain": [
       "<Figure size 640x480 with 1 Axes>"
      ]
     },
     "metadata": {},
     "output_type": "display_data"
    }
   ],
   "source": [
    "#Write your code here"
   ]
  },
  {
   "cell_type": "code",
   "execution_count": null,
   "id": "fb3e07fc",
   "metadata": {
    "id": "fb3e07fc",
    "outputId": "4e20ef02-f9b5-4206-9f4d-03204aa74e95"
   },
   "outputs": [
    {
     "data": {
      "text/html": [
       "<div>\n",
       "<style scoped>\n",
       "    .dataframe tbody tr th:only-of-type {\n",
       "        vertical-align: middle;\n",
       "    }\n",
       "\n",
       "    .dataframe tbody tr th {\n",
       "        vertical-align: top;\n",
       "    }\n",
       "\n",
       "    .dataframe thead th {\n",
       "        text-align: right;\n",
       "    }\n",
       "</style>\n",
       "<table border=\"1\" class=\"dataframe\">\n",
       "  <thead>\n",
       "    <tr style=\"text-align: right;\">\n",
       "      <th></th>\n",
       "      <th>highway-mpg</th>\n",
       "      <th>price</th>\n",
       "    </tr>\n",
       "  </thead>\n",
       "  <tbody>\n",
       "    <tr>\n",
       "      <th>highway-mpg</th>\n",
       "      <td>1.000000</td>\n",
       "      <td>-0.704692</td>\n",
       "    </tr>\n",
       "    <tr>\n",
       "      <th>price</th>\n",
       "      <td>-0.704692</td>\n",
       "      <td>1.000000</td>\n",
       "    </tr>\n",
       "  </tbody>\n",
       "</table>\n",
       "</div>"
      ],
      "text/plain": [
       "             highway-mpg     price\n",
       "highway-mpg     1.000000 -0.704692\n",
       "price          -0.704692  1.000000"
      ]
     },
     "execution_count": 34,
     "metadata": {},
     "output_type": "execute_result"
    }
   ],
   "source": [
    "#Write your code here"
   ]
  },
  {
   "cell_type": "markdown",
   "id": "04e81a7f",
   "metadata": {
    "id": "04e81a7f"
   },
   "source": [
    "From the regplot of \"highway-mpg\" and \"Price\", we can see that there is negative correlation between these two i.e. when the value of highway-mpg increases, the price of the car decreases. The correlation value of -.70 indicates that this is another meaningful parameter for pridicting car price. Lets look at the example of weak correlation."
   ]
  },
  {
   "cell_type": "code",
   "execution_count": null,
   "id": "d9665644",
   "metadata": {
    "id": "d9665644",
    "outputId": "52075f85-88f5-471a-bf14-710771fd22dc"
   },
   "outputs": [
    {
     "data": {
      "text/plain": [
       "<AxesSubplot:xlabel='stroke', ylabel='price'>"
      ]
     },
     "execution_count": 35,
     "metadata": {},
     "output_type": "execute_result"
    },
    {
     "data": {
      "image/png": "[encoded data removed]",
      "text/plain": [
       "<Figure size 640x480 with 1 Axes>"
      ]
     },
     "metadata": {},
     "output_type": "display_data"
    }
   ],
   "source": [
    "sns.regplot(x=\"stroke\", y=\"price\", data=df)"
   ]
  },
  {
   "cell_type": "code",
   "execution_count": null,
   "id": "06ea3126",
   "metadata": {
    "id": "06ea3126",
    "outputId": "8b3239fb-8f50-4c91-b94a-87ab01f3ae99"
   },
   "outputs": [
    {
     "data": {
      "text/html": [
       "<div>\n",
       "<style scoped>\n",
       "    .dataframe tbody tr th:only-of-type {\n",
       "        vertical-align: middle;\n",
       "    }\n",
       "\n",
       "    .dataframe tbody tr th {\n",
       "        vertical-align: top;\n",
       "    }\n",
       "\n",
       "    .dataframe thead th {\n",
       "        text-align: right;\n",
       "    }\n",
       "</style>\n",
       "<table border=\"1\" class=\"dataframe\">\n",
       "  <thead>\n",
       "    <tr style=\"text-align: right;\">\n",
       "      <th></th>\n",
       "      <th>stroke</th>\n",
       "      <th>price</th>\n",
       "    </tr>\n",
       "  </thead>\n",
       "  <tbody>\n",
       "    <tr>\n",
       "      <th>stroke</th>\n",
       "      <td>1.000000</td>\n",
       "      <td>0.082269</td>\n",
       "    </tr>\n",
       "    <tr>\n",
       "      <th>price</th>\n",
       "      <td>0.082269</td>\n",
       "      <td>1.000000</td>\n",
       "    </tr>\n",
       "  </tbody>\n",
       "</table>\n",
       "</div>"
      ],
      "text/plain": [
       "          stroke     price\n",
       "stroke  1.000000  0.082269\n",
       "price   0.082269  1.000000"
      ]
     },
     "execution_count": 36,
     "metadata": {},
     "output_type": "execute_result"
    }
   ],
   "source": [
    "df[['stroke','price']].corr()"
   ]
  },
  {
   "cell_type": "markdown",
   "id": "444c6f6c",
   "metadata": {
    "id": "444c6f6c"
   },
   "source": [
    "From the reg plot and the correlation price, we can see that there is a weak correlation between the stroke and price. "
   ]
  },
  {
   "cell_type": "markdown",
   "id": "553ae197",
   "metadata": {
    "id": "553ae197"
   },
   "source": [
    "**Task** Find the correlation of each numeric variable with price."
   ]
  },
  {
   "cell_type": "code",
   "execution_count": null,
   "id": "026aca60",
   "metadata": {
    "id": "026aca60",
    "outputId": "311667f1-6845-4212-8825-21bcafea067c"
   },
   "outputs": [
    {
     "name": "stdout",
     "output_type": "stream",
     "text": [
      "           symboling     price\n",
      "symboling   1.000000 -0.082391\n",
      "price      -0.082391  1.000000\n",
      "                   normalized-losses     price\n",
      "normalized-losses           1.000000  0.133999\n",
      "price                       0.133999  1.000000\n",
      "            wheel-base     price\n",
      "wheel-base    1.000000  0.584642\n",
      "price         0.584642  1.000000\n",
      "          length     price\n",
      "length  1.000000  0.690628\n",
      "price   0.690628  1.000000\n",
      "          width     price\n",
      "width  1.000000  0.751265\n",
      "price  0.751265  1.000000\n",
      "          height     price\n",
      "height  1.000000  0.135486\n",
      "price   0.135486  1.000000\n",
      "             curb-weight     price\n",
      "curb-weight     1.000000  0.834415\n",
      "price           0.834415  1.000000\n",
      "             engine-size     price\n",
      "engine-size     1.000000  0.872335\n",
      "price           0.872335  1.000000\n",
      "           bore     price\n",
      "bore   1.000000  0.543155\n",
      "price  0.543155  1.000000\n",
      "          stroke     price\n",
      "stroke  1.000000  0.082269\n",
      "price   0.082269  1.000000\n",
      "                   compression-ratio     price\n",
      "compression-ratio           1.000000  0.071107\n",
      "price                       0.071107  1.000000\n",
      "            horsepower     price\n",
      "horsepower    1.000000  0.809607\n",
      "price         0.809607  1.000000\n",
      "          peak-rpm     price\n",
      "peak-rpm  1.000000 -0.101616\n",
      "price    -0.101616  1.000000\n",
      "          city-mpg     price\n",
      "city-mpg  1.000000 -0.686571\n",
      "price    -0.686571  1.000000\n",
      "             highway-mpg     price\n",
      "highway-mpg     1.000000 -0.704692\n",
      "price          -0.704692  1.000000\n",
      "          diesel     price\n",
      "diesel  1.000000  0.110326\n",
      "price   0.110326  1.000000\n",
      "            gas     price\n",
      "gas    1.000000 -0.110326\n",
      "price -0.110326  1.000000\n",
      "            std     price\n",
      "std    1.000000 -0.179578\n",
      "price -0.179578  1.000000\n",
      "          turbo     price\n",
      "turbo  1.000000  0.179578\n",
      "price  0.179578  1.000000\n"
     ]
    }
   ],
   "source": [
    "NumericalParameters = [\"symboling\",\"normalized-losses\",\"wheel-base\", \"length\",\"width\",\"height\",\"curb-weight\",\"engine-size\",\"bore\",\"stroke\",\"compression-ratio\",\"horsepower\",\n",
    "         \"peak-rpm\",\"city-mpg\",\"highway-mpg\",\"diesel\",\"gas\",\"std\",\"turbo\"]\n",
    "for column in NumericalParameters:\n",
    "   #Write your code here"
   ]
  },
  {
   "cell_type": "markdown",
   "id": "e9763b29",
   "metadata": {
    "id": "e9763b29"
   },
   "source": [
    "Sometimes we would like to know the significant of the correlation estimate.<br>\n",
    "**P-value**\n",
    "The P-value is the probability value that the correlation between these two variables is statistically significant. If this probability is lower than the conventional 5% (P<0.05) the correlation coefficient is called statistically significant. It is, however, important not to confuse correlation with causation. When two variables are correlated, there may or may not be a causative connection, and this connection may moreover be indirect. Correlation can only be interpreted in terms of causation if the variables under investigation provide a logical (biological) basis for such interpretation[3].\n",
    "\n",
    "95% confidence interval (CI) for the Pearson correlation coefficient: this is the range of values that contains with a 95% confidence the 'true' correlation coefficient.\n",
    "By convention, when the <br>\n",
    "p-value is  < 0.001: we say there is strong evidence that the correlation is significant.<br>\n",
    "p-value is  < 0.05: there is moderate evidence that the correlation is significant.<br>\n",
    "p-value is < 0.1: there is weak evidence that the correlation is significant.<br>\n",
    "p-value is  > 0.1: there is no evidence that the correlation is significant.<br>"
   ]
  },
  {
   "cell_type": "markdown",
   "id": "cb0ac835",
   "metadata": {
    "id": "cb0ac835"
   },
   "source": [
    "In python you can calculate the peason correlation using `scipy.stats`module. lets calulate the pearson correlation between engine-size and price."
   ]
  },
  {
   "cell_type": "code",
   "execution_count": null,
   "id": "b609993f",
   "metadata": {
    "id": "b609993f",
    "outputId": "131a1477-d960-45ac-e932-185ed4a7794e"
   },
   "outputs": [
    {
     "name": "stdout",
     "output_type": "stream",
     "text": [
      "The Pearson Correlation Coefficient is 0.8723351674455185  with a P-value of P = 9.265491622198389e-64\n"
     ]
    }
   ],
   "source": [
    "from scipy import stats\n",
    "pearson_coef, p_value = stats.pearsonr(df['engine-size'], df['price'])\n",
    "print(\"The Pearson Correlation Coefficient is\", pearson_coef, \" with a P-value of P =\", p_value)  "
   ]
  },
  {
   "cell_type": "markdown",
   "id": "fed328b6",
   "metadata": {
    "id": "fed328b6"
   },
   "source": [
    "**Task** Calculate the Pearson Correlation Coefficient and P-value of each numeric variable with price. Find a list of meaningful numeric parameters for predicting car price."
   ]
  },
  {
   "cell_type": "code",
   "execution_count": null,
   "id": "ad6f0099",
   "metadata": {
    "id": "ad6f0099",
    "outputId": "165a4994-44d0-4566-c2cd-503b2e49445d"
   },
   "outputs": [
    {
     "name": "stdout",
     "output_type": "stream",
     "text": [
      "symboling : The Pearson Correlation Coefficient is -0.08239118716962358  with a P-value of P = 0.2449148765716521\n",
      "normalized-losses : The Pearson Correlation Coefficient is 0.13399873429274334  with a P-value of P = 0.05789749352703121\n",
      "wheel-base : The Pearson Correlation Coefficient is 0.5846418222655081  with a P-value of P = 8.076488270732989e-20\n",
      "length : The Pearson Correlation Coefficient is 0.690628380448364  with a P-value of P = 8.016477466158986e-30\n",
      "width : The Pearson Correlation Coefficient is 0.7512653440522672  with a P-value of P = 9.20033551048217e-38\n",
      "height : The Pearson Correlation Coefficient is 0.1354863075680597  with a P-value of P = 0.055146273251013435\n",
      "curb-weight : The Pearson Correlation Coefficient is 0.8344145257702846  with a P-value of P = 2.1895772388936914e-53\n",
      "engine-size : The Pearson Correlation Coefficient is 0.8723351674455185  with a P-value of P = 9.265491622198389e-64\n",
      "bore : The Pearson Correlation Coefficient is 0.5431553832626602  with a P-value of P = 8.049189483935489e-17\n",
      "stroke : The Pearson Correlation Coefficient is 0.08226928855325809  with a P-value of P = 0.24561612487745918\n",
      "compression-ratio : The Pearson Correlation Coefficient is 0.07110732668194145  with a P-value of P = 0.3158110188729282\n",
      "horsepower : The Pearson Correlation Coefficient is 0.8096068016571054  with a P-value of P = 6.273536270650504e-48\n",
      "peak-rpm : The Pearson Correlation Coefficient is -0.10161587407588146  with a P-value of P = 0.1511769165144532\n",
      "city-mpg : The Pearson Correlation Coefficient is -0.6865710067844677  with a P-value of P = 2.321132065567674e-29\n",
      "highway-mpg : The Pearson Correlation Coefficient is -0.7046922650589529  with a P-value of P = 1.7495471144477352e-31\n",
      "diesel : The Pearson Correlation Coefficient is 0.11032556467564857  with a P-value of P = 0.11896254438091342\n",
      "gas : The Pearson Correlation Coefficient is -0.11032556467564855  with a P-value of P = 0.11896254438091342\n",
      "std : The Pearson Correlation Coefficient is -0.17957848135197413  with a P-value of P = 0.010745853841803764\n",
      "turbo : The Pearson Correlation Coefficient is 0.17957848135197413  with a P-value of P = 0.010745853841803764\n"
     ]
    }
   ],
   "source": [
    "NumericalParameters = [\"symboling\",\"normalized-losses\",\"wheel-base\", \"length\",\"width\",\"height\",\"curb-weight\",\"engine-size\",\"bore\",\"stroke\",\"compression-ratio\",\"horsepower\",\n",
    "         \"peak-rpm\",\"city-mpg\",\"highway-mpg\",\"diesel\",\"gas\",\"std\",\"turbo\"]\n",
    "#Write your code here"
   ]
  },
  {
   "cell_type": "markdown",
   "id": "59012e3c",
   "metadata": {
    "id": "59012e3c"
   },
   "source": [
    "## Categorical Data\n",
    "To visualise the categorical data, you can use boxplots.Lets look at the relationship between the 'body-style' and 'price'. As you learned from lab 3 that boxplot can be plotted using seaborn library as follows: "
   ]
  },
  {
   "cell_type": "code",
   "execution_count": null,
   "id": "f1376e1f",
   "metadata": {
    "id": "f1376e1f",
    "outputId": "79d7c418-fb8f-4cdf-d54a-abaedbd2fd30"
   },
   "outputs": [
    {
     "data": {
      "text/plain": [
       "<AxesSubplot:xlabel='body-style', ylabel='price'>"
      ]
     },
     "execution_count": 41,
     "metadata": {},
     "output_type": "execute_result"
    },
    {
     "data": {
      "image/png": "[encoded data removed]",
      "text/plain": [
       "<Figure size 640x480 with 1 Axes>"
      ]
     },
     "metadata": {},
     "output_type": "display_data"
    }
   ],
   "source": [
    "sns.boxplot(x=\"body-style\", y=\"price\", data=df)"
   ]
  },
  {
   "cell_type": "markdown",
   "id": "526318a9",
   "metadata": {
    "id": "526318a9"
   },
   "source": [
    "We see clearly visualise from the boxplot that different body-style categories have a significant overlap, so body-style would not be a good predictor of price. Lets explore other categorical parameters. <br>\n",
    "**Task** Visualise the relationship between engine-location,drive-wheels using box plot and determine either they are good parameters for predicting car price or not. "
   ]
  },
  {
   "cell_type": "code",
   "execution_count": null,
   "id": "f4a1de9a",
   "metadata": {
    "id": "f4a1de9a",
    "outputId": "2ef12bc6-2d04-4840-8c41-e43cd86c27d3"
   },
   "outputs": [
    {
     "data": {
      "text/plain": [
       "<AxesSubplot:xlabel='drive-wheels', ylabel='price'>"
      ]
     },
     "execution_count": 42,
     "metadata": {},
     "output_type": "execute_result"
    },
    {
     "data": {
      "image/png": "[encoded data removed]",
      "text/plain": [
       "<Figure size 640x480 with 1 Axes>"
      ]
     },
     "metadata": {},
     "output_type": "display_data"
    }
   ],
   "source": [
    "#Write your code here"
   ]
  },
  {
   "cell_type": "markdown",
   "id": "f6aca04b",
   "metadata": {
    "id": "f6aca04b"
   },
   "source": [
    "We can see from the box plot that the distribution of price between the different drive-wheels categories differs. This indicates that the drive-wheels could potentially be a predictor of price."
   ]
  },
  {
   "cell_type": "code",
   "execution_count": null,
   "id": "7a80e158",
   "metadata": {
    "id": "7a80e158",
    "outputId": "a36bcf1c-a145-40ba-845d-b3079d568b1b"
   },
   "outputs": [
    {
     "data": {
      "text/plain": [
       "<AxesSubplot:xlabel='engine-location', ylabel='price'>"
      ]
     },
     "execution_count": 43,
     "metadata": {},
     "output_type": "execute_result"
    },
    {
     "data": {
      "image/png": "[encoded data removed]",
      "text/plain": [
       "<Figure size 640x480 with 1 Axes>"
      ]
     },
     "metadata": {},
     "output_type": "display_data"
    }
   ],
   "source": [
    "#Write your code here"
   ]
  },
  {
   "cell_type": "markdown",
   "id": "a742c4a3",
   "metadata": {
    "id": "a742c4a3"
   },
   "source": [
    "We can see from the box plot that the distribution of price between these two engine-location categories, front and rear, are distinct enough to take engine-location as a potential good predictor of price."
   ]
  },
  {
   "cell_type": "markdown",
   "id": "1f105c07",
   "metadata": {
    "id": "1f105c07"
   },
   "source": [
    "## Descriptive Statistical Analysis\n",
    "![Interquartile Range](https://miro.medium.com/v2/resize:fit:640/format:webp/1*zL6qxjoZH2tVLakIVGAFWg.png) \n",
    "\n",
    "To get statistical summary of the every column you can use `df.describe()`. The describe() method returns description of the data(exluding NaN) in the DataFrame.DEscribe method will provide the following information for ecah column.<br> \n",
    "count - The number of not-empty values.<br>\n",
    "mean - The average (mean) value.<br>\n",
    "std - The standard deviation.<br>\n",
    "min - the minimum value.<br>\n",
    "25% - The 25% percentile<br>\n",
    "50% - The 50% percentile<br>\n",
    "75% - The 75% percentile<br>\n",
    "max - the maximum value<br>\n"
   ]
  },
  {
   "cell_type": "code",
   "execution_count": null,
   "id": "82f42089",
   "metadata": {
    "id": "82f42089",
    "outputId": "37fa232f-4eb4-4169-e36c-8fbef815eafe"
   },
   "outputs": [
    {
     "data": {
      "text/html": [
       "<div>\n",
       "<style scoped>\n",
       "    .dataframe tbody tr th:only-of-type {\n",
       "        vertical-align: middle;\n",
       "    }\n",
       "\n",
       "    .dataframe tbody tr th {\n",
       "        vertical-align: top;\n",
       "    }\n",
       "\n",
       "    .dataframe thead th {\n",
       "        text-align: right;\n",
       "    }\n",
       "</style>\n",
       "<table border=\"1\" class=\"dataframe\">\n",
       "  <thead>\n",
       "    <tr style=\"text-align: right;\">\n",
       "      <th></th>\n",
       "      <th>symboling</th>\n",
       "      <th>normalized-losses</th>\n",
       "      <th>wheel-base</th>\n",
       "      <th>length</th>\n",
       "      <th>width</th>\n",
       "      <th>height</th>\n",
       "      <th>curb-weight</th>\n",
       "      <th>engine-size</th>\n",
       "      <th>bore</th>\n",
       "      <th>stroke</th>\n",
       "      <th>compression-ratio</th>\n",
       "      <th>horsepower</th>\n",
       "      <th>peak-rpm</th>\n",
       "      <th>city-mpg</th>\n",
       "      <th>highway-mpg</th>\n",
       "      <th>price</th>\n",
       "      <th>diesel</th>\n",
       "      <th>gas</th>\n",
       "      <th>std</th>\n",
       "      <th>turbo</th>\n",
       "    </tr>\n",
       "  </thead>\n",
       "  <tbody>\n",
       "    <tr>\n",
       "      <th>count</th>\n",
       "      <td>201.000000</td>\n",
       "      <td>201.00000</td>\n",
       "      <td>201.000000</td>\n",
       "      <td>201.000000</td>\n",
       "      <td>201.000000</td>\n",
       "      <td>201.000000</td>\n",
       "      <td>201.000000</td>\n",
       "      <td>201.000000</td>\n",
       "      <td>201.000000</td>\n",
       "      <td>201.000000</td>\n",
       "      <td>201.000000</td>\n",
       "      <td>201.000000</td>\n",
       "      <td>201.000000</td>\n",
       "      <td>201.000000</td>\n",
       "      <td>201.000000</td>\n",
       "      <td>201.000000</td>\n",
       "      <td>201.000000</td>\n",
       "      <td>201.000000</td>\n",
       "      <td>201.000000</td>\n",
       "      <td>201.000000</td>\n",
       "    </tr>\n",
       "    <tr>\n",
       "      <th>mean</th>\n",
       "      <td>0.840796</td>\n",
       "      <td>122.00000</td>\n",
       "      <td>98.797015</td>\n",
       "      <td>0.494045</td>\n",
       "      <td>0.477697</td>\n",
       "      <td>0.497222</td>\n",
       "      <td>2555.666667</td>\n",
       "      <td>126.875622</td>\n",
       "      <td>3.330692</td>\n",
       "      <td>3.256874</td>\n",
       "      <td>10.164279</td>\n",
       "      <td>103.402985</td>\n",
       "      <td>5117.665368</td>\n",
       "      <td>25.179104</td>\n",
       "      <td>30.686567</td>\n",
       "      <td>13207.129353</td>\n",
       "      <td>0.099502</td>\n",
       "      <td>0.900498</td>\n",
       "      <td>0.820896</td>\n",
       "      <td>0.179104</td>\n",
       "    </tr>\n",
       "    <tr>\n",
       "      <th>std</th>\n",
       "      <td>1.254802</td>\n",
       "      <td>31.99625</td>\n",
       "      <td>6.066366</td>\n",
       "      <td>0.183913</td>\n",
       "      <td>0.179613</td>\n",
       "      <td>0.203985</td>\n",
       "      <td>517.296727</td>\n",
       "      <td>41.546834</td>\n",
       "      <td>0.268072</td>\n",
       "      <td>0.316048</td>\n",
       "      <td>4.004965</td>\n",
       "      <td>37.365650</td>\n",
       "      <td>478.113805</td>\n",
       "      <td>6.423220</td>\n",
       "      <td>6.815150</td>\n",
       "      <td>7947.066342</td>\n",
       "      <td>0.300083</td>\n",
       "      <td>0.300083</td>\n",
       "      <td>0.384397</td>\n",
       "      <td>0.384397</td>\n",
       "    </tr>\n",
       "    <tr>\n",
       "      <th>min</th>\n",
       "      <td>-2.000000</td>\n",
       "      <td>65.00000</td>\n",
       "      <td>86.600000</td>\n",
       "      <td>0.000000</td>\n",
       "      <td>0.000000</td>\n",
       "      <td>0.000000</td>\n",
       "      <td>1488.000000</td>\n",
       "      <td>61.000000</td>\n",
       "      <td>2.540000</td>\n",
       "      <td>2.070000</td>\n",
       "      <td>7.000000</td>\n",
       "      <td>48.000000</td>\n",
       "      <td>4150.000000</td>\n",
       "      <td>13.000000</td>\n",
       "      <td>16.000000</td>\n",
       "      <td>5118.000000</td>\n",
       "      <td>0.000000</td>\n",
       "      <td>0.000000</td>\n",
       "      <td>0.000000</td>\n",
       "      <td>0.000000</td>\n",
       "    </tr>\n",
       "    <tr>\n",
       "      <th>25%</th>\n",
       "      <td>0.000000</td>\n",
       "      <td>101.00000</td>\n",
       "      <td>94.500000</td>\n",
       "      <td>0.383582</td>\n",
       "      <td>0.324786</td>\n",
       "      <td>0.350000</td>\n",
       "      <td>2169.000000</td>\n",
       "      <td>98.000000</td>\n",
       "      <td>3.150000</td>\n",
       "      <td>3.110000</td>\n",
       "      <td>8.600000</td>\n",
       "      <td>70.000000</td>\n",
       "      <td>4800.000000</td>\n",
       "      <td>19.000000</td>\n",
       "      <td>25.000000</td>\n",
       "      <td>7775.000000</td>\n",
       "      <td>0.000000</td>\n",
       "      <td>1.000000</td>\n",
       "      <td>1.000000</td>\n",
       "      <td>0.000000</td>\n",
       "    </tr>\n",
       "    <tr>\n",
       "      <th>50%</th>\n",
       "      <td>1.000000</td>\n",
       "      <td>122.00000</td>\n",
       "      <td>97.000000</td>\n",
       "      <td>0.479104</td>\n",
       "      <td>0.444444</td>\n",
       "      <td>0.525000</td>\n",
       "      <td>2414.000000</td>\n",
       "      <td>120.000000</td>\n",
       "      <td>3.310000</td>\n",
       "      <td>3.290000</td>\n",
       "      <td>9.000000</td>\n",
       "      <td>95.000000</td>\n",
       "      <td>5125.369458</td>\n",
       "      <td>24.000000</td>\n",
       "      <td>30.000000</td>\n",
       "      <td>10295.000000</td>\n",
       "      <td>0.000000</td>\n",
       "      <td>1.000000</td>\n",
       "      <td>1.000000</td>\n",
       "      <td>0.000000</td>\n",
       "    </tr>\n",
       "    <tr>\n",
       "      <th>75%</th>\n",
       "      <td>2.000000</td>\n",
       "      <td>137.00000</td>\n",
       "      <td>102.400000</td>\n",
       "      <td>0.632836</td>\n",
       "      <td>0.538462</td>\n",
       "      <td>0.641667</td>\n",
       "      <td>2926.000000</td>\n",
       "      <td>141.000000</td>\n",
       "      <td>3.580000</td>\n",
       "      <td>3.410000</td>\n",
       "      <td>9.400000</td>\n",
       "      <td>116.000000</td>\n",
       "      <td>5500.000000</td>\n",
       "      <td>30.000000</td>\n",
       "      <td>34.000000</td>\n",
       "      <td>16500.000000</td>\n",
       "      <td>0.000000</td>\n",
       "      <td>1.000000</td>\n",
       "      <td>1.000000</td>\n",
       "      <td>0.000000</td>\n",
       "    </tr>\n",
       "    <tr>\n",
       "      <th>max</th>\n",
       "      <td>3.000000</td>\n",
       "      <td>256.00000</td>\n",
       "      <td>120.900000</td>\n",
       "      <td>1.000000</td>\n",
       "      <td>1.000000</td>\n",
       "      <td>1.000000</td>\n",
       "      <td>4066.000000</td>\n",
       "      <td>326.000000</td>\n",
       "      <td>3.940000</td>\n",
       "      <td>4.170000</td>\n",
       "      <td>23.000000</td>\n",
       "      <td>262.000000</td>\n",
       "      <td>6600.000000</td>\n",
       "      <td>49.000000</td>\n",
       "      <td>54.000000</td>\n",
       "      <td>45400.000000</td>\n",
       "      <td>1.000000</td>\n",
       "      <td>1.000000</td>\n",
       "      <td>1.000000</td>\n",
       "      <td>1.000000</td>\n",
       "    </tr>\n",
       "  </tbody>\n",
       "</table>\n",
       "</div>"
      ],
      "text/plain": [
       "        symboling  normalized-losses  wheel-base      length       width  \\\n",
       "count  201.000000          201.00000  201.000000  201.000000  201.000000   \n",
       "mean     0.840796          122.00000   98.797015    0.494045    0.477697   \n",
       "std      1.254802           31.99625    6.066366    0.183913    0.179613   \n",
       "min     -2.000000           65.00000   86.600000    0.000000    0.000000   \n",
       "25%      0.000000          101.00000   94.500000    0.383582    0.324786   \n",
       "50%      1.000000          122.00000   97.000000    0.479104    0.444444   \n",
       "75%      2.000000          137.00000  102.400000    0.632836    0.538462   \n",
       "max      3.000000          256.00000  120.900000    1.000000    1.000000   \n",
       "\n",
       "           height  curb-weight  engine-size        bore      stroke  \\\n",
       "count  201.000000   201.000000   201.000000  201.000000  201.000000   \n",
       "mean     0.497222  2555.666667   126.875622    3.330692    3.256874   \n",
       "std      0.203985   517.296727    41.546834    0.268072    0.316048   \n",
       "min      0.000000  1488.000000    61.000000    2.540000    2.070000   \n",
       "25%      0.350000  2169.000000    98.000000    3.150000    3.110000   \n",
       "50%      0.525000  2414.000000   120.000000    3.310000    3.290000   \n",
       "75%      0.641667  2926.000000   141.000000    3.580000    3.410000   \n",
       "max      1.000000  4066.000000   326.000000    3.940000    4.170000   \n",
       "\n",
       "       compression-ratio  horsepower     peak-rpm    city-mpg  highway-mpg  \\\n",
       "count         201.000000  201.000000   201.000000  201.000000   201.000000   \n",
       "mean           10.164279  103.402985  5117.665368   25.179104    30.686567   \n",
       "std             4.004965   37.365650   478.113805    6.423220     6.815150   \n",
       "min             7.000000   48.000000  4150.000000   13.000000    16.000000   \n",
       "25%             8.600000   70.000000  4800.000000   19.000000    25.000000   \n",
       "50%             9.000000   95.000000  5125.369458   24.000000    30.000000   \n",
       "75%             9.400000  116.000000  5500.000000   30.000000    34.000000   \n",
       "max            23.000000  262.000000  6600.000000   49.000000    54.000000   \n",
       "\n",
       "              price      diesel         gas         std       turbo  \n",
       "count    201.000000  201.000000  201.000000  201.000000  201.000000  \n",
       "mean   13207.129353    0.099502    0.900498    0.820896    0.179104  \n",
       "std     7947.066342    0.300083    0.300083    0.384397    0.384397  \n",
       "min     5118.000000    0.000000    0.000000    0.000000    0.000000  \n",
       "25%     7775.000000    0.000000    1.000000    1.000000    0.000000  \n",
       "50%    10295.000000    0.000000    1.000000    1.000000    0.000000  \n",
       "75%    16500.000000    0.000000    1.000000    1.000000    0.000000  \n",
       "max    45400.000000    1.000000    1.000000    1.000000    1.000000  "
      ]
     },
     "execution_count": 44,
     "metadata": {},
     "output_type": "execute_result"
    }
   ],
   "source": [
    "df.describe()"
   ]
  },
  {
   "cell_type": "markdown",
   "id": "c3de547e",
   "metadata": {
    "id": "c3de547e"
   },
   "source": [
    "By default describe shows the statistical summary of all numeric-typed (int, float) columns.If you want to check the statistical summary of object type, you need to add an argument \"Include=\"all\"\". When you will you all you will get additional information i.e.count,unique,top,freq. While using df.describe(include = \"all\") some values in the table will be shown as \"NaN\". This is because those numbers are not available regarding a particular column type. For basic statistics for object variables you can use `df.describe(include=['object'])`"
   ]
  },
  {
   "cell_type": "code",
   "execution_count": null,
   "id": "88230a7a",
   "metadata": {
    "id": "88230a7a",
    "outputId": "737b733a-899b-4b28-80ed-f3e9050b295f"
   },
   "outputs": [
    {
     "data": {
      "text/html": [
       "<div>\n",
       "<style scoped>\n",
       "    .dataframe tbody tr th:only-of-type {\n",
       "        vertical-align: middle;\n",
       "    }\n",
       "\n",
       "    .dataframe tbody tr th {\n",
       "        vertical-align: top;\n",
       "    }\n",
       "\n",
       "    .dataframe thead th {\n",
       "        text-align: right;\n",
       "    }\n",
       "</style>\n",
       "<table border=\"1\" class=\"dataframe\">\n",
       "  <thead>\n",
       "    <tr style=\"text-align: right;\">\n",
       "      <th></th>\n",
       "      <th>make</th>\n",
       "      <th>num-of-doors</th>\n",
       "      <th>body-style</th>\n",
       "      <th>drive-wheels</th>\n",
       "      <th>engine-location</th>\n",
       "      <th>engine-type</th>\n",
       "      <th>num-of-cylinders</th>\n",
       "      <th>fuel-system</th>\n",
       "    </tr>\n",
       "  </thead>\n",
       "  <tbody>\n",
       "    <tr>\n",
       "      <th>count</th>\n",
       "      <td>201</td>\n",
       "      <td>201</td>\n",
       "      <td>201</td>\n",
       "      <td>201</td>\n",
       "      <td>201</td>\n",
       "      <td>201</td>\n",
       "      <td>201</td>\n",
       "      <td>201</td>\n",
       "    </tr>\n",
       "    <tr>\n",
       "      <th>unique</th>\n",
       "      <td>22</td>\n",
       "      <td>2</td>\n",
       "      <td>5</td>\n",
       "      <td>3</td>\n",
       "      <td>2</td>\n",
       "      <td>6</td>\n",
       "      <td>7</td>\n",
       "      <td>8</td>\n",
       "    </tr>\n",
       "    <tr>\n",
       "      <th>top</th>\n",
       "      <td>toyota</td>\n",
       "      <td>four</td>\n",
       "      <td>sedan</td>\n",
       "      <td>fwd</td>\n",
       "      <td>front</td>\n",
       "      <td>ohc</td>\n",
       "      <td>four</td>\n",
       "      <td>mpfi</td>\n",
       "    </tr>\n",
       "    <tr>\n",
       "      <th>freq</th>\n",
       "      <td>32</td>\n",
       "      <td>115</td>\n",
       "      <td>94</td>\n",
       "      <td>118</td>\n",
       "      <td>198</td>\n",
       "      <td>145</td>\n",
       "      <td>157</td>\n",
       "      <td>92</td>\n",
       "    </tr>\n",
       "  </tbody>\n",
       "</table>\n",
       "</div>"
      ],
      "text/plain": [
       "          make num-of-doors body-style drive-wheels engine-location  \\\n",
       "count      201          201        201          201             201   \n",
       "unique      22            2          5            3               2   \n",
       "top     toyota         four      sedan          fwd           front   \n",
       "freq        32          115         94          118             198   \n",
       "\n",
       "       engine-type num-of-cylinders fuel-system  \n",
       "count          201              201         201  \n",
       "unique           6                7           8  \n",
       "top            ohc             four        mpfi  \n",
       "freq           145              157          92  "
      ]
     },
     "execution_count": 45,
     "metadata": {},
     "output_type": "execute_result"
    }
   ],
   "source": [
    "df.describe(include=['object'])"
   ]
  },
  {
   "cell_type": "markdown",
   "id": "f2b63477",
   "metadata": {
    "id": "f2b63477"
   },
   "source": [
    "**Task** After finishing the EDA process,list down the meaningful parameters for predicting the price of the car. "
   ]
  },
  {
   "cell_type": "markdown",
   "id": "47c25ef1",
   "metadata": {
    "id": "47c25ef1"
   },
   "source": [
    "**Continuous numerical variables:**\n",
    "#Write your parameters here\n",
    "\n",
    "**Categorical variables:**\n",
    "#Write your parameters here<br>"
   ]
  },
  {
   "cell_type": "markdown",
   "id": "0511acd8",
   "metadata": {
    "id": "0511acd8"
   },
   "source": [
    "# References <br>\n",
    "[1]Pandas.cut() method in Python, available at \"https://www.geeksforgeeks.org/pandas-cut-method-in-python/\", retrived on 27th Feburary 2023 <br>\n",
    "[2] EDA – correlation analysis, available at \"https://tinyurl.com/bddbtm8k\", retrived on 27th Feburary 2023 <br>\n",
    "[3].Pearson correlation, available at \"https://tinyurl.com/yckmx5wa\", retrived on 27th Feburary 2023 <br>"
   ]
  },
  {
   "cell_type": "code",
   "execution_count": null,
   "id": "f09af65f",
   "metadata": {
    "id": "f09af65f"
   },
   "outputs": [],
   "source": []
  }
 ],
 "metadata": {
  "colab": {
   "provenance": []
  },
  "kernelspec": {
   "display_name": "Python 3 (ipykernel)",
   "language": "python",
   "name": "python3"
  },
  "language_info": {
   "codemirror_mode": {
    "name": "ipython",
    "version": 3
   },
   "file_extension": ".py",
   "mimetype": "text/x-python",
   "name": "python",
   "nbconvert_exporter": "python",
   "pygments_lexer": "ipython3",
   "version": "3.11.5"
  }
 },
 "nbformat": 4,
 "nbformat_minor": 5
}
