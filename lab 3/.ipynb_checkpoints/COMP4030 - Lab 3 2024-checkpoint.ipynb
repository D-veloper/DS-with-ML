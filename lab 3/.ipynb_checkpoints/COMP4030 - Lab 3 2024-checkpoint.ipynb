{
 "cells": [
  {
   "cell_type": "markdown",
   "id": "personal-royal",
   "metadata": {},
   "source": [
    "# COMP4030 - Data Science and Machine Learning - Lab 3\n",
    "# Visualisation with Matplotlib and Seaborn\n",
    "\n",
    "*Authors*: Johann Benerradi, Jeremie Clos"
   ]
  },
  {
   "cell_type": "markdown",
   "id": "seven-stations",
   "metadata": {},
   "source": [
    "**Points from last lab you absolutely need to be familiar with**:\n",
    "\n",
    "- read Excel file: `pd.read_excel()`\n",
    "\n",
    "\n",
    "- rename columns: `df.rename()`\n",
    "\n",
    "\n",
    "- unique values from a column: `df.unique()`\n",
    "- duplicated rows: `df.duplicated()`\n",
    "- drop duplicated rows: `df.drop_duplicates()`\n",
    "\n",
    "\n",
    "- quantile / percentile: `df.quantile()`\n",
    "\n",
    "\n",
    "- rows with *NaN*: `df.isna()`\n",
    "- drop rows with *NaN*: `df.dropna()`"
   ]
  },
  {
   "cell_type": "code",
   "execution_count": 1,
   "id": "stock-omega",
   "metadata": {},
   "outputs": [],
   "source": [
    "import matplotlib.pyplot as plt\n",
    "import pandas as pd\n",
    "import seaborn as sns"
   ]
  },
  {
   "cell_type": "markdown",
   "id": "fifth-density",
   "metadata": {},
   "source": [
    "## 1. Getting started with visualisation"
   ]
  },
  {
   "cell_type": "markdown",
   "id": "verified-stomach",
   "metadata": {},
   "source": [
    "Let's first get started with data visualisation on simple example datasets."
   ]
  },
  {
   "cell_type": "markdown",
   "id": "worst-conversion",
   "metadata": {},
   "source": [
    "### 1.1 Line plots"
   ]
  },
  {
   "cell_type": "markdown",
   "id": "framed-pepper",
   "metadata": {},
   "source": [
    "> Line plots are good to visualise the relationship between two continuous variables (typically time series)."
   ]
  },
  {
   "cell_type": "markdown",
   "id": "delayed-upset",
   "metadata": {},
   "source": [
    "First let's load a dataset gathering life expectancy in different countries throughout the years:"
   ]
  },
  {
   "cell_type": "code",
   "execution_count": 2,
   "id": "protected-google",
   "metadata": {},
   "outputs": [
    {
     "data": {
      "text/html": [
       "<div>\n",
       "<style scoped>\n",
       "    .dataframe tbody tr th:only-of-type {\n",
       "        vertical-align: middle;\n",
       "    }\n",
       "\n",
       "    .dataframe tbody tr th {\n",
       "        vertical-align: top;\n",
       "    }\n",
       "\n",
       "    .dataframe thead th {\n",
       "        text-align: right;\n",
       "    }\n",
       "</style>\n",
       "<table border=\"1\" class=\"dataframe\">\n",
       "  <thead>\n",
       "    <tr style=\"text-align: right;\">\n",
       "      <th></th>\n",
       "      <th>Year</th>\n",
       "      <th>Country</th>\n",
       "      <th>Spending_USD</th>\n",
       "      <th>Life_Expectancy</th>\n",
       "    </tr>\n",
       "  </thead>\n",
       "  <tbody>\n",
       "    <tr>\n",
       "      <th>0</th>\n",
       "      <td>1970</td>\n",
       "      <td>Germany</td>\n",
       "      <td>252.311</td>\n",
       "      <td>70.6</td>\n",
       "    </tr>\n",
       "    <tr>\n",
       "      <th>1</th>\n",
       "      <td>1970</td>\n",
       "      <td>France</td>\n",
       "      <td>192.143</td>\n",
       "      <td>72.2</td>\n",
       "    </tr>\n",
       "    <tr>\n",
       "      <th>2</th>\n",
       "      <td>1970</td>\n",
       "      <td>Great Britain</td>\n",
       "      <td>123.993</td>\n",
       "      <td>71.9</td>\n",
       "    </tr>\n",
       "    <tr>\n",
       "      <th>3</th>\n",
       "      <td>1970</td>\n",
       "      <td>Japan</td>\n",
       "      <td>150.437</td>\n",
       "      <td>72.0</td>\n",
       "    </tr>\n",
       "    <tr>\n",
       "      <th>4</th>\n",
       "      <td>1970</td>\n",
       "      <td>USA</td>\n",
       "      <td>326.961</td>\n",
       "      <td>70.9</td>\n",
       "    </tr>\n",
       "    <tr>\n",
       "      <th>...</th>\n",
       "      <td>...</td>\n",
       "      <td>...</td>\n",
       "      <td>...</td>\n",
       "      <td>...</td>\n",
       "    </tr>\n",
       "    <tr>\n",
       "      <th>269</th>\n",
       "      <td>2020</td>\n",
       "      <td>Germany</td>\n",
       "      <td>6938.983</td>\n",
       "      <td>81.1</td>\n",
       "    </tr>\n",
       "    <tr>\n",
       "      <th>270</th>\n",
       "      <td>2020</td>\n",
       "      <td>France</td>\n",
       "      <td>5468.418</td>\n",
       "      <td>82.3</td>\n",
       "    </tr>\n",
       "    <tr>\n",
       "      <th>271</th>\n",
       "      <td>2020</td>\n",
       "      <td>Great Britain</td>\n",
       "      <td>5018.700</td>\n",
       "      <td>80.4</td>\n",
       "    </tr>\n",
       "    <tr>\n",
       "      <th>272</th>\n",
       "      <td>2020</td>\n",
       "      <td>Japan</td>\n",
       "      <td>4665.641</td>\n",
       "      <td>84.7</td>\n",
       "    </tr>\n",
       "    <tr>\n",
       "      <th>273</th>\n",
       "      <td>2020</td>\n",
       "      <td>USA</td>\n",
       "      <td>11859.179</td>\n",
       "      <td>77.0</td>\n",
       "    </tr>\n",
       "  </tbody>\n",
       "</table>\n",
       "<p>274 rows × 4 columns</p>\n",
       "</div>"
      ],
      "text/plain": [
       "     Year        Country  Spending_USD  Life_Expectancy\n",
       "0    1970        Germany       252.311             70.6\n",
       "1    1970         France       192.143             72.2\n",
       "2    1970  Great Britain       123.993             71.9\n",
       "3    1970          Japan       150.437             72.0\n",
       "4    1970            USA       326.961             70.9\n",
       "..    ...            ...           ...              ...\n",
       "269  2020        Germany      6938.983             81.1\n",
       "270  2020         France      5468.418             82.3\n",
       "271  2020  Great Britain      5018.700             80.4\n",
       "272  2020          Japan      4665.641             84.7\n",
       "273  2020            USA     11859.179             77.0\n",
       "\n",
       "[274 rows x 4 columns]"
      ]
     },
     "execution_count": 2,
     "metadata": {},
     "output_type": "execute_result"
    }
   ],
   "source": [
    "df = sns.load_dataset('healthexp')\n",
    "df"
   ]
  },
  {
   "cell_type": "markdown",
   "id": "provincial-spring",
   "metadata": {},
   "source": [
    "#### Matplotlib"
   ]
  },
  {
   "cell_type": "markdown",
   "id": "stunning-aaron",
   "metadata": {},
   "source": [
    "Matplotlib is a Python plotting interface. It contains the most basic functions in order to create simple line plots. Let's create a basic line plot with data from the USA:"
   ]
  },
  {
   "cell_type": "code",
   "execution_count": 3,
   "id": "mexican-glass",
   "metadata": {},
   "outputs": [
    {
     "data": {
      "image/png": "[encoded data removed]",
      "text/plain": [
       "<Figure size 640x480 with 1 Axes>"
      ]
     },
     "metadata": {},
     "output_type": "display_data"
    }
   ],
   "source": [
    "df_us = df[df['Country'] == 'US']\n",
    "plt.plot(df_us['Year'], df_us['Life_Expectancy'])\n",
    "plt.show()"
   ]
  },
  {
   "cell_type": "markdown",
   "id": "instrumental-ratio",
   "metadata": {},
   "source": [
    "We can also obviously create a lineplot with more than one line:"
   ]
  },
  {
   "cell_type": "code",
   "execution_count": null,
   "id": "geological-directory",
   "metadata": {},
   "outputs": [],
   "source": [
    "df_fr = df[df['Country'] == 'France']\n",
    "plt.plot(df_us['Year'], df_us['Life_Expectancy'])\n",
    "plt.plot(df_fr['Year'], df_fr['Life_Expectancy'])\n",
    "plt.show()"
   ]
  },
  {
   "cell_type": "markdown",
   "id": "other-ready",
   "metadata": {},
   "source": [
    "This previous plot looks a bit empty, let's add axis titles and a legend:"
   ]
  },
  {
   "cell_type": "code",
   "execution_count": null,
   "id": "national-complex",
   "metadata": {},
   "outputs": [],
   "source": [
    "plt.plot(df_us['Year'], df_us['Life_Expectancy'], label='USA')\n",
    "plt.plot(df_fr['Year'], df_fr['Life_Expectancy'], label='France')\n",
    "plt.legend()\n",
    "plt.title('Life expectancy throughout the years')\n",
    "plt.xlabel('Year')\n",
    "plt.ylabel('Life expectancy (in years)')\n",
    "plt.show()"
   ]
  },
  {
   "cell_type": "markdown",
   "id": "seasonal-translator",
   "metadata": {},
   "source": [
    "We can also create subplots:"
   ]
  },
  {
   "cell_type": "code",
   "execution_count": null,
   "id": "innovative-mustang",
   "metadata": {},
   "outputs": [],
   "source": [
    "fig, axs = plt.subplots(2)\n",
    "fig.suptitle('Horizontally stacked subplots')\n",
    "axs[0].plot(df_us['Year'], df_us['Life_Expectancy'])\n",
    "axs[0].set_title('USA')\n",
    "axs[1].plot(df_fr['Year'], df_fr['Life_Expectancy'])\n",
    "axs[1].set_title('France')\n",
    "plt.tight_layout()  # to avoid overlapping of subplots when the figure is small\n",
    "plt.show()"
   ]
  },
  {
   "cell_type": "markdown",
   "id": "developing-finnish",
   "metadata": {},
   "source": [
    "You can notice that when creating multiple plots the axis is automatically scaled to each subplot. Setting axis limits can then be very important in order to compare easily two subplots and avoid misleading the reader:"
   ]
  },
  {
   "cell_type": "code",
   "execution_count": null,
   "id": "discrete-spice",
   "metadata": {},
   "outputs": [],
   "source": [
    "fig, axs = plt.subplots(1, 2)\n",
    "fig.suptitle('Horizontally stacked subplots')\n",
    "axs[0].plot(df_us['Year'], df_us['Life_Expectancy'])\n",
    "axs[0].set_title('USA')\n",
    "axs[0].set_ylim(70, 85)\n",
    "axs[1].plot(df_fr['Year'], df_fr['Life_Expectancy'])\n",
    "axs[1].set_title('France')\n",
    "axs[1].set_ylim(70, 85)\n",
    "plt.show()"
   ]
  },
  {
   "cell_type": "markdown",
   "id": "million-explosion",
   "metadata": {},
   "source": [
    "We can create as many subplots as we like:"
   ]
  },
  {
   "cell_type": "code",
   "execution_count": null,
   "id": "front-training",
   "metadata": {},
   "outputs": [],
   "source": [
    "df_gb = df[df['Country'] == 'Great Britain']\n",
    "df_ja = df[df['Country'] == 'Japan']\n",
    "fig, axs = plt.subplots(2, 2)\n",
    "fig.suptitle('Horizontally stacked subplots')\n",
    "axs[0, 0].plot(df_us['Year'], df_us['Life_Expectancy'])\n",
    "axs[0, 0].set_title('USA')\n",
    "axs[0, 1].plot(df_fr['Year'], df_fr['Life_Expectancy'])\n",
    "axs[0, 1].set_title('France')\n",
    "axs[1, 0].plot(df_gb['Year'], df_gb['Life_Expectancy'])\n",
    "axs[1, 0].set_title('Great Britain')\n",
    "axs[1, 1].plot(df_ja['Year'], df_ja['Life_Expectancy'])\n",
    "axs[1, 1].set_title('Japan')\n",
    "plt.tight_layout()  # to avoid overlapping of subplots when the figure is small\n",
    "plt.show()"
   ]
  },
  {
   "cell_type": "markdown",
   "id": "surprising-gibson",
   "metadata": {},
   "source": [
    "#### Seaborn"
   ]
  },
  {
   "cell_type": "markdown",
   "id": "oriented-imperial",
   "metadata": {},
   "source": [
    "Matplotlib can quickly become limited and hard to use when we want to do advanced visualisation. Instead we can use Seaborn which is high-level interface for visualisation actually based on Matplotlib, for example it enables us to create easily a plot with multiple lines from a pandas *DataFrame* thanks to the `hue` argument:"
   ]
  },
  {
   "cell_type": "code",
   "execution_count": null,
   "id": "wrong-vacation",
   "metadata": {},
   "outputs": [],
   "source": [
    "sns.lineplot(data=df, x='Year', y='Life_Expectancy', hue='Country')\n",
    "plt.show()"
   ]
  },
  {
   "cell_type": "markdown",
   "id": "informed-table",
   "metadata": {},
   "source": [
    "We can also display bands representing standard deviation (this gives a good idea of how data is distributed around the mean):"
   ]
  },
  {
   "cell_type": "code",
   "execution_count": null,
   "id": "defined-window",
   "metadata": {},
   "outputs": [],
   "source": [
    "sns.lineplot(data=df, x='Year', y='Life_Expectancy', errorbar='sd')  # (\"ci\" argument in older seaborn versions)\n",
    "plt.show()"
   ]
  },
  {
   "cell_type": "markdown",
   "id": "exterior-rebound",
   "metadata": {},
   "source": [
    "**Task 1.1.1**: Have a look at the `lineplot()` function documentation and display with bands the confidence interval instead of the standard deviation."
   ]
  },
  {
   "cell_type": "code",
   "execution_count": null,
   "id": "behind-simple",
   "metadata": {},
   "outputs": [],
   "source": []
  },
  {
   "cell_type": "markdown",
   "id": "excessive-governor",
   "metadata": {},
   "source": [
    "Whenever there are many *y* values for each *x*, we can represent bands around the mean. Here for example let's create continent subgroups, each with values from multiple countries:"
   ]
  },
  {
   "cell_type": "code",
   "execution_count": null,
   "id": "lesser-cuisine",
   "metadata": {},
   "outputs": [],
   "source": [
    "europe = ['Germany', 'France', 'Great Britain']\n",
    "other = ['Japan', 'USA', 'Canada']\n",
    "df.loc[df['Country'].isin(europe), 'Continent'] = 'Europe'\n",
    "df.loc[df['Country'].isin(other), 'Continent'] = 'Other'\n",
    "df"
   ]
  },
  {
   "cell_type": "markdown",
   "id": "alpha-consistency",
   "metadata": {},
   "source": [
    "We can then display standard deviation bands for each subgroup:"
   ]
  },
  {
   "cell_type": "code",
   "execution_count": null,
   "id": "essential-responsibility",
   "metadata": {},
   "outputs": [],
   "source": [
    "sns.lineplot(data=df, x='Year', y='Life_Expectancy', hue='Continent', errorbar='sd')\n",
    "plt.show()"
   ]
  },
  {
   "cell_type": "markdown",
   "id": "blocked-management",
   "metadata": {},
   "source": [
    "**Task 1.1.2**: Have a look at the `ax` argument of the `lineplot()` function and instead of having both lines on the same graph, create subplots to display them side by side, with standard deviation."
   ]
  },
  {
   "cell_type": "code",
   "execution_count": null,
   "id": "strategic-prefix",
   "metadata": {},
   "outputs": [],
   "source": []
  },
  {
   "cell_type": "markdown",
   "id": "moderate-touch",
   "metadata": {},
   "source": [
    "### 1.2 Scatter plots"
   ]
  },
  {
   "cell_type": "markdown",
   "id": "fourth-silver",
   "metadata": {},
   "source": [
    "> Scatter plots are good to visualise independent data points."
   ]
  },
  {
   "cell_type": "markdown",
   "id": "amateur-kernel",
   "metadata": {},
   "source": [
    "Let's load now the penguin dataset that we've been using previously but this time the original version (alternatively feel free to use the cleaned up version from last lab if you have saved it in a file):"
   ]
  },
  {
   "cell_type": "code",
   "execution_count": null,
   "id": "horizontal-geometry",
   "metadata": {},
   "outputs": [],
   "source": [
    "df = sns.load_dataset('penguins')\n",
    "df"
   ]
  },
  {
   "cell_type": "markdown",
   "id": "confident-premises",
   "metadata": {},
   "source": [
    "Again, here Matplotlib enables us to do simple plotting:"
   ]
  },
  {
   "cell_type": "code",
   "execution_count": null,
   "id": "assured-banks",
   "metadata": {},
   "outputs": [],
   "source": [
    "df_ad = df[df['species'] == 'Adelie']\n",
    "df_ge = df[df['species'] == 'Gentoo']\n",
    "plt.scatter(df_ad['bill_length_mm'], df_ad['bill_depth_mm'], label='Adelie')\n",
    "plt.scatter(df_ge['bill_length_mm'], df_ge['bill_depth_mm'], label='Gentoo')\n",
    "plt.legend()\n",
    "plt.xlabel('Bill length (mm)')\n",
    "plt.ylabel('Bill depth (mm)')\n",
    "plt.show()"
   ]
  },
  {
   "cell_type": "markdown",
   "id": "boring-creation",
   "metadata": {},
   "source": [
    "But again, Seaborn is also more convenient and enables to do more advanced plotting:"
   ]
  },
  {
   "cell_type": "code",
   "execution_count": null,
   "id": "acquired-bryan",
   "metadata": {},
   "outputs": [],
   "source": [
    "sns.scatterplot(data=df, x='bill_length_mm', y='bill_depth_mm', hue='species')\n",
    "plt.show()"
   ]
  },
  {
   "cell_type": "markdown",
   "id": "documentary-transformation",
   "metadata": {},
   "source": [
    "It may be useful to change the style of point, for example for accessibility reasons. Moreover, Seaborn has also a colour blind palette:"
   ]
  },
  {
   "cell_type": "code",
   "execution_count": null,
   "id": "ancient-battlefield",
   "metadata": {},
   "outputs": [],
   "source": [
    "sns.scatterplot(data=df, x='bill_length_mm', y='bill_depth_mm', hue='species', style='species', palette='colorblind')\n",
    "plt.show()"
   ]
  },
  {
   "cell_type": "markdown",
   "id": "natural-shanghai",
   "metadata": {},
   "source": [
    "We can also display more information with a scatter plot with the size of the points:"
   ]
  },
  {
   "cell_type": "code",
   "execution_count": null,
   "id": "looking-firewall",
   "metadata": {},
   "outputs": [],
   "source": [
    "sns.scatterplot(data=df, x='bill_length_mm', y='bill_depth_mm', hue='species', size='body_mass_g', sizes=(20, 200))\n",
    "plt.legend(bbox_to_anchor=(1.02, 1), loc='upper left', borderaxespad=0)  # place legend outside top right corner of plot\n",
    "plt.show()"
   ]
  },
  {
   "cell_type": "markdown",
   "id": "latest-weekly",
   "metadata": {},
   "source": [
    "A useful thing with seaborn is that we can create a scatter plot also displaying the linear regression (this will be useful when we will see in later labs correlation:"
   ]
  },
  {
   "cell_type": "code",
   "execution_count": null,
   "id": "normal-chester",
   "metadata": {},
   "outputs": [],
   "source": [
    "sns.lmplot(data=df, x='bill_depth_mm', y='body_mass_g')\n",
    "plt.show()"
   ]
  },
  {
   "cell_type": "markdown",
   "id": "postal-exposure",
   "metadata": {},
   "source": [
    "We can also do that with subgroups using `hue` (we can also edit axis titles and legends of figures created with Seaborn):"
   ]
  },
  {
   "cell_type": "code",
   "execution_count": null,
   "id": "institutional-arbor",
   "metadata": {},
   "outputs": [],
   "source": [
    "figure = sns.lmplot(data=df, x='bill_depth_mm', y='body_mass_g', hue='species')\n",
    "plt.xlabel('Bill depth (mm)')\n",
    "plt.ylabel('Body mass (g)')\n",
    "figure._legend.set_title('Species')\n",
    "plt.show()"
   ]
  },
  {
   "cell_type": "markdown",
   "id": "motivated-appearance",
   "metadata": {},
   "source": [
    "> **Note**: The trend with all groups together appears to be opposite of the one of each subgroup, this is an example of the [Simpson's paradox](https://en.wikipedia.org/wiki/Simpson's_paradox)."
   ]
  },
  {
   "cell_type": "markdown",
   "id": "twenty-sterling",
   "metadata": {},
   "source": [
    "**Task 1.2.1**: Visualise the relationship between bill length and flipper length using a scatter plot with linear regression, depending on the island on which penguins live."
   ]
  },
  {
   "cell_type": "code",
   "execution_count": null,
   "id": "smooth-massage",
   "metadata": {},
   "outputs": [],
   "source": []
  },
  {
   "cell_type": "markdown",
   "id": "operational-contrast",
   "metadata": {},
   "source": [
    "### 1.3 Bar plots"
   ]
  },
  {
   "cell_type": "markdown",
   "id": "active-inspector",
   "metadata": {},
   "source": [
    "> Bar plots are good to visualise the relationship between a continuous and a discrete variable."
   ]
  },
  {
   "cell_type": "markdown",
   "id": "suspected-belarus",
   "metadata": {},
   "source": [
    "Let's first create a basic bar plot with Matplotlib:"
   ]
  },
  {
   "cell_type": "code",
   "execution_count": null,
   "id": "internal-currency",
   "metadata": {},
   "outputs": [],
   "source": [
    "plt.bar(df['species'], df['body_mass_g'])\n",
    "plt.xlabel('Species')\n",
    "plt.ylabel('Body mass (g)')\n",
    "plt.show()"
   ]
  },
  {
   "cell_type": "markdown",
   "id": "cutting-house",
   "metadata": {},
   "source": [
    "Again, Seaborn makes our life much easier and it also displays error bars representing 95% confidence interval by default:"
   ]
  },
  {
   "cell_type": "code",
   "execution_count": null,
   "id": "settled-implementation",
   "metadata": {
    "scrolled": true
   },
   "outputs": [],
   "source": [
    "sns.barplot(data=df, x='species', y='body_mass_g')\n",
    "plt.show()"
   ]
  },
  {
   "cell_type": "markdown",
   "id": "tough-latex",
   "metadata": {},
   "source": [
    "We can also do that with subgroups using `hue`:"
   ]
  },
  {
   "cell_type": "code",
   "execution_count": null,
   "id": "strong-latin",
   "metadata": {},
   "outputs": [],
   "source": [
    "sns.barplot(data=df, x='island', y='body_mass_g', hue='sex')\n",
    "plt.show()"
   ]
  },
  {
   "cell_type": "markdown",
   "id": "handy-scheme",
   "metadata": {},
   "source": [
    "**Task 1.3.1**: Create the same histogram as above, but this time, have a look at the documentation of the `barplot()` function to display the standard deviation instead default confidence interval."
   ]
  },
  {
   "cell_type": "code",
   "execution_count": null,
   "id": "criminal-clinic",
   "metadata": {},
   "outputs": [],
   "source": []
  },
  {
   "cell_type": "markdown",
   "id": "personal-official",
   "metadata": {},
   "source": [
    "### 1.4 Histograms"
   ]
  },
  {
   "cell_type": "markdown",
   "id": "sonic-rental",
   "metadata": {},
   "source": [
    "> Histograms are good to visualise the distribution of data in different classes (typically the amount of data in each class)."
   ]
  },
  {
   "cell_type": "markdown",
   "id": "spare-riding",
   "metadata": {},
   "source": [
    "We can create a basic histogram with Matplotlib:"
   ]
  },
  {
   "cell_type": "code",
   "execution_count": null,
   "id": "intelligent-spice",
   "metadata": {},
   "outputs": [],
   "source": [
    "plt.hist(df['species'])\n",
    "plt.show()"
   ]
  },
  {
   "cell_type": "markdown",
   "id": "catholic-button",
   "metadata": {},
   "source": [
    "Or more advanced ones using subgroups with Seaborn:"
   ]
  },
  {
   "cell_type": "code",
   "execution_count": null,
   "id": "unexpected-beach",
   "metadata": {},
   "outputs": [],
   "source": [
    "sns.histplot(data=df, x='species', hue='sex', multiple='dodge')\n",
    "plt.show()"
   ]
  },
  {
   "cell_type": "markdown",
   "id": "sharing-newark",
   "metadata": {},
   "source": [
    "**Task 1.4.1**: Create the same histogram as above, but this time, have a look at the documentation of the `histplot()` function to display the percentage instead of the count on the *y* axis."
   ]
  },
  {
   "cell_type": "code",
   "execution_count": null,
   "id": "unknown-bermuda",
   "metadata": {},
   "outputs": [],
   "source": []
  },
  {
   "cell_type": "markdown",
   "id": "legitimate-january",
   "metadata": {},
   "source": [
    "We can also visualise the distribution of data in a continuous variable, which will automatically be discretised into classes:"
   ]
  },
  {
   "cell_type": "code",
   "execution_count": null,
   "id": "every-intranet",
   "metadata": {},
   "outputs": [],
   "source": [
    "sns.histplot(data=df, x='body_mass_g', hue='species')\n",
    "plt.show()"
   ]
  },
  {
   "cell_type": "markdown",
   "id": "worst-manhattan",
   "metadata": {},
   "source": [
    "The number of classes created can be adjusted with the `bins` argument:"
   ]
  },
  {
   "cell_type": "code",
   "execution_count": null,
   "id": "regional-librarian",
   "metadata": {},
   "outputs": [],
   "source": [
    "sns.histplot(data=df, x='body_mass_g', hue='species', bins=24)\n",
    "plt.show()"
   ]
  },
  {
   "cell_type": "markdown",
   "id": "valued-challenge",
   "metadata": {},
   "source": [
    "When we have numerical data, insteade of discretising it, we can also use disribution plots, they enable to have a smoothened visualisation of the distribution (they use for that purpose kernel density estimation of the underlying distribution, so this visualisation can look misleadingly distorted with distributions which are bounded or not smooth):"
   ]
  },
  {
   "cell_type": "code",
   "execution_count": null,
   "id": "stylish-retirement",
   "metadata": {},
   "outputs": [],
   "source": [
    "sns.kdeplot(data=df, x='body_mass_g', hue='species', fill=True)\n",
    "plt.show()"
   ]
  },
  {
   "cell_type": "markdown",
   "id": "respective-decline",
   "metadata": {},
   "source": [
    "While earlier we were representing histograms with two dimensions (a variable and the count), here we can also visualise a third dimension on the same graph using colour intensity, the three dimensions being 2 variables along the *x* and *y* axis and the count with colour intensity:"
   ]
  },
  {
   "cell_type": "code",
   "execution_count": null,
   "id": "welcome-habitat",
   "metadata": {},
   "outputs": [],
   "source": [
    "sns.histplot(data=df, x='species', y='island', cbar=True)\n",
    "plt.show()"
   ]
  },
  {
   "cell_type": "markdown",
   "id": "future-repair",
   "metadata": {},
   "source": [
    "### 1.5 Box plots"
   ]
  },
  {
   "cell_type": "markdown",
   "id": "elegant-jewelry",
   "metadata": {},
   "source": [
    "> Boxplots are good to visualise the distribution of data on a continuous variable (tipically Q1, Q3 and the median)."
   ]
  },
  {
   "cell_type": "markdown",
   "id": "brutal-aquatic",
   "metadata": {},
   "source": [
    "Once more, using Matplotlib first, we can plot a simple box plot:"
   ]
  },
  {
   "cell_type": "code",
   "execution_count": null,
   "id": "conscious-toner",
   "metadata": {},
   "outputs": [],
   "source": [
    "plt.boxplot(df['body_mass_g'].dropna())\n",
    "plt.ylabel('Body mass (g)')\n",
    "plt.show()"
   ]
  },
  {
   "cell_type": "markdown",
   "id": "reasonable-congress",
   "metadata": {},
   "source": [
    "And now with Seaborn for more advanced visualisation:"
   ]
  },
  {
   "cell_type": "code",
   "execution_count": null,
   "id": "opened-foster",
   "metadata": {},
   "outputs": [],
   "source": [
    "sns.boxplot(data=df, x='species', y='body_mass_g')\n",
    "plt.show()"
   ]
  },
  {
   "cell_type": "markdown",
   "id": "horizontal-hundred",
   "metadata": {},
   "source": [
    "We can visualise subgroups with `hue`:"
   ]
  },
  {
   "cell_type": "code",
   "execution_count": null,
   "id": "third-lesbian",
   "metadata": {},
   "outputs": [],
   "source": [
    "sns.boxplot(data=df, x='species', y='body_mass_g', hue='sex')\n",
    "plt.show()"
   ]
  },
  {
   "cell_type": "markdown",
   "id": "published-collapse",
   "metadata": {},
   "source": [
    "**Task 1.5.1**: Create a box plot visualisation to show the distribution of flipper length for each sex and each species."
   ]
  },
  {
   "cell_type": "code",
   "execution_count": null,
   "id": "swedish-flavor",
   "metadata": {},
   "outputs": [],
   "source": []
  },
  {
   "cell_type": "markdown",
   "id": "parental-stereo",
   "metadata": {},
   "source": [
    "We can also use violin plots (similarly to what we have seen before with distribution plots, they use kernel density estimation of the underlying distribution, so this visualisation can look misleadingly smooth with relatively small samples):"
   ]
  },
  {
   "cell_type": "code",
   "execution_count": null,
   "id": "international-gravity",
   "metadata": {},
   "outputs": [],
   "source": [
    "sns.violinplot(data=df, x='species', y='body_mass_g', hue='sex')\n",
    "plt.show()"
   ]
  },
  {
   "cell_type": "markdown",
   "id": "composite-weapon",
   "metadata": {},
   "source": [
    "### 1.6 Saving figures"
   ]
  },
  {
   "cell_type": "markdown",
   "id": "frank-portuguese",
   "metadata": {},
   "source": [
    "Here we have seen how to plot figures in the Jupyter notebook, however it may be handy to plot them in a separate window for more interactivity or for saving the figure easily. The following command, once run, enables to change the Matplotlib backend in order to plot all the new figures created in a separate window (in this case using the QT backend):"
   ]
  },
  {
   "cell_type": "code",
   "execution_count": null,
   "id": "changed-release",
   "metadata": {},
   "outputs": [],
   "source": [
    "%matplotlib qt"
   ]
  },
  {
   "cell_type": "markdown",
   "id": "cordless-chicago",
   "metadata": {},
   "source": [
    "**Task 1.6.1**: Plot one of the figures we have done before in a separate window, and save it using the interface."
   ]
  },
  {
   "cell_type": "code",
   "execution_count": null,
   "id": "political-diary",
   "metadata": {},
   "outputs": [],
   "source": []
  },
  {
   "cell_type": "markdown",
   "id": "great-embassy",
   "metadata": {},
   "source": [
    "We can revert back to plotting inline using the following command:"
   ]
  },
  {
   "cell_type": "code",
   "execution_count": null,
   "id": "racial-intersection",
   "metadata": {},
   "outputs": [],
   "source": [
    "%matplotlib inline"
   ]
  },
  {
   "cell_type": "markdown",
   "id": "fitting-shopping",
   "metadata": {},
   "source": [
    "Alternatively figures can be saved using Python code:"
   ]
  },
  {
   "cell_type": "code",
   "execution_count": null,
   "id": "loved-sword",
   "metadata": {},
   "outputs": [],
   "source": [
    "sns.violinplot(data=df, x='species', y='body_mass_g', hue='sex')\n",
    "plt.savefig('violin_plot.png')"
   ]
  },
  {
   "cell_type": "markdown",
   "id": "precious-wildlife",
   "metadata": {},
   "source": [
    "---"
   ]
  },
  {
   "cell_type": "markdown",
   "id": "stuffed-champion",
   "metadata": {},
   "source": [
    "## 2. Final tasks"
   ]
  },
  {
   "cell_type": "markdown",
   "id": "biblical-retention",
   "metadata": {},
   "source": [
    "Let's load the cleaned up questionnaire dataset from last week's lab  (from task 2.9 '2024_analyse_ourselves.csv', you should have saved the dataset from last lab after cleanup, so you can now load it here):"
   ]
  },
  {
   "cell_type": "code",
   "execution_count": null,
   "id": "failing-basin",
   "metadata": {},
   "outputs": [],
   "source": [
    "df_ao = pd.read_csv('2024_analyse_ourselves.csv')\n",
    "df_ao"
   ]
  },
  {
   "cell_type": "markdown",
   "id": "introductory-denial",
   "metadata": {},
   "source": [
    "**Final task 1**: For the column describing optimism about the future, convert all the nuances of \"agree\" into a single value, and all the nuances of \"disagree\" into another single value such that the only possible values are *Agree*, *Disagree* and *Neutral*."
   ]
  },
  {
   "cell_type": "code",
   "execution_count": null,
   "id": "stopped-reconstruction",
   "metadata": {},
   "outputs": [],
   "source": []
  },
  {
   "cell_type": "markdown",
   "id": "amended-choice",
   "metadata": {},
   "source": [
    "**Final task 2**: Use the most appropriate plot to visualise the distribution of data in the different classes of optimism about the future."
   ]
  },
  {
   "cell_type": "code",
   "execution_count": null,
   "id": "descending-worthy",
   "metadata": {},
   "outputs": [],
   "source": []
  },
  {
   "cell_type": "markdown",
   "id": "natural-people",
   "metadata": {},
   "source": [
    "**Final task 3**: Use the most appropriate plot to visualise the hours of sleep depending on what animal people love."
   ]
  },
  {
   "cell_type": "code",
   "execution_count": null,
   "id": "potential-glucose",
   "metadata": {},
   "outputs": [],
   "source": []
  },
  {
   "cell_type": "markdown",
   "id": "desperate-makeup",
   "metadata": {},
   "source": [
    "**Final task 4**: Use the most appropriate plot to visualise the relationship between the completion time and the number of hours of sleep. Does it look like there is a correlation?"
   ]
  },
  {
   "cell_type": "code",
   "execution_count": null,
   "id": "distinct-monster",
   "metadata": {},
   "outputs": [],
   "source": []
  },
  {
   "cell_type": "markdown",
   "id": "adult-heading",
   "metadata": {},
   "source": [
    "**Final task 5**: Use the most appropriate plot to visualise the distribution of data depending people's feeling the day of answering the questionnaire and their optimism about the future."
   ]
  },
  {
   "cell_type": "code",
   "execution_count": null,
   "id": "quick-yugoslavia",
   "metadata": {},
   "outputs": [],
   "source": []
  },
  {
   "cell_type": "markdown",
   "id": "treated-desktop",
   "metadata": {},
   "source": [
    "**Final task 6**: Use three different appropriate plot types to visualise the distribution of hours of sleep depending on what animal people love."
   ]
  },
  {
   "cell_type": "code",
   "execution_count": null,
   "id": "christian-level",
   "metadata": {},
   "outputs": [],
   "source": []
  },
  {
   "cell_type": "markdown",
   "id": "tracked-gravity",
   "metadata": {},
   "source": [
    "---"
   ]
  },
  {
   "cell_type": "markdown",
   "id": "activated-debate",
   "metadata": {},
   "source": [
    "## 3. Open tasks"
   ]
  },
  {
   "cell_type": "markdown",
   "id": "waiting-rugby",
   "metadata": {},
   "source": [
    "For the open tasks, we will use a real dataset that is actually referenced on the [official UK government website for open data](https://www.data.gov.uk/) and can be found at [this address](https://www.hesa.ac.uk/data-and-analysis/finances/income). You can find on Moodle the CSV file of the first table of that dataset. It is data about income and expenditure of UK higher education providers."
   ]
  },
  {
   "cell_type": "code",
   "execution_count": null,
   "id": "hearing-trustee",
   "metadata": {
    "scrolled": false
   },
   "outputs": [],
   "source": [
    "df_he = pd.read_csv('higher_education.csv', skiprows=16)  # https://www.hesa.ac.uk/data-and-analysis/finances/income\n",
    "df_he  # data in thousands of GBP"
   ]
  },
  {
   "cell_type": "code",
   "execution_count": null,
   "id": "committed-vehicle",
   "metadata": {},
   "outputs": [],
   "source": [
    "df_he.info()"
   ]
  },
  {
   "cell_type": "markdown",
   "id": "brazilian-salem",
   "metadata": {},
   "source": [
    "**Open task 1**: The UKPRN column is interpreted as a floating-point number column, convert it into an integer column."
   ]
  },
  {
   "cell_type": "code",
   "execution_count": null,
   "id": "metropolitan-ticket",
   "metadata": {},
   "outputs": [],
   "source": []
  },
  {
   "cell_type": "markdown",
   "id": "fiscal-harvard",
   "metadata": {},
   "source": [
    "**Open task 2:**: Most of the numbers have contain a comma for thousands, remove all the commas and make sure the columns are interpreted as floating-point numbers."
   ]
  },
  {
   "cell_type": "code",
   "execution_count": null,
   "id": "later-founder",
   "metadata": {},
   "outputs": [],
   "source": []
  },
  {
   "cell_type": "markdown",
   "id": "exempt-occupation",
   "metadata": {},
   "source": [
    "**Open task 3**: All the numbers are in thousands of GBP, multiply them all by 1000 to have them in GBP."
   ]
  },
  {
   "cell_type": "code",
   "execution_count": null,
   "id": "acute-meaning",
   "metadata": {},
   "outputs": [],
   "source": []
  },
  {
   "cell_type": "markdown",
   "id": "proprietary-welding",
   "metadata": {},
   "source": [
    "**Open task 4**: One row represents totals, ensure these are correct and then remove that row from the *DataFrame* for further analysis."
   ]
  },
  {
   "cell_type": "code",
   "execution_count": null,
   "id": "backed-legislation",
   "metadata": {},
   "outputs": [],
   "source": []
  },
  {
   "cell_type": "markdown",
   "id": "bottom-bronze",
   "metadata": {},
   "source": [
    "**Open task 5**: Create a new column with information about whether each university is member of the [Russell Group](https://en.wikipedia.org/wiki/Russell_Group) or not."
   ]
  },
  {
   "cell_type": "code",
   "execution_count": null,
   "id": "addressed-nudist",
   "metadata": {},
   "outputs": [],
   "source": []
  },
  {
   "cell_type": "markdown",
   "id": "checked-belize",
   "metadata": {},
   "source": [
    "**Open task 6**: Use the most appropriate plot to visualise the difference of income of Russell Group universities (RGUs) as opposed to non-Russell Group universities (non-RGUs)."
   ]
  },
  {
   "cell_type": "code",
   "execution_count": null,
   "id": "fundamental-champagne",
   "metadata": {},
   "outputs": [],
   "source": []
  },
  {
   "cell_type": "markdown",
   "id": "engaging-plymouth",
   "metadata": {},
   "source": [
    "**Open task 7**: Use the most appropriate plot to visualise the relationship between staff costs and research grants and contracts incomes for the RGUs as opposed to non-RGUs."
   ]
  },
  {
   "cell_type": "code",
   "execution_count": null,
   "id": "northern-breeding",
   "metadata": {},
   "outputs": [],
   "source": []
  },
  {
   "cell_type": "markdown",
   "id": "wooden-crazy",
   "metadata": {},
   "source": [
    "**Open task 8**: Use the most appropriate plot to visualise the distribution of tuation fees for RGUs as opposed to non-RGUs."
   ]
  },
  {
   "cell_type": "code",
   "execution_count": null,
   "id": "political-latex",
   "metadata": {},
   "outputs": [],
   "source": []
  }
 ],
 "metadata": {
  "kernelspec": {
   "display_name": "Python 3 (ipykernel)",
   "language": "python",
   "name": "python3"
  },
  "language_info": {
   "codemirror_mode": {
    "name": "ipython",
    "version": 3
   },
   "file_extension": ".py",
   "mimetype": "text/x-python",
   "name": "python",
   "nbconvert_exporter": "python",
   "pygments_lexer": "ipython3",
   "version": "3.11.5"
  }
 },
 "nbformat": 4,
 "nbformat_minor": 5
}
